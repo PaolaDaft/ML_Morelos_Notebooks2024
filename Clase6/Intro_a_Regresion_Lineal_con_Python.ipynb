{
  "cells": [
    {
      "cell_type": "markdown",
      "metadata": {
        "id": "view-in-github",
        "colab_type": "text"
      },
      "source": [
        "<a href=\"https://colab.research.google.com/github/PaolaDaft/ML_Morelos_Notebooks2024/blob/main/Clase6/Intro_a_Regresion_Lineal_con_Python.ipynb\" target=\"_parent\"><img src=\"https://colab.research.google.com/assets/colab-badge.svg\" alt=\"Open In Colab\"/></a>"
      ]
    },
    {
      "cell_type": "markdown",
      "metadata": {
        "id": "OnOVMh2lZKXs"
      },
      "source": [
        "# Ejemplo de regresión lineal simple usando Python"
      ]
    },
    {
      "cell_type": "code",
      "execution_count": null,
      "metadata": {
        "id": "xq2j3rNNZKXx"
      },
      "outputs": [],
      "source": [
        "import numpy as np\n",
        "import random\n",
        "from sklearn import linear_model\n",
        "from sklearn.metrics import mean_squared_error, r2_score\n",
        "import matplotlib.pyplot as plt\n",
        "#%matplotlib inline"
      ]
    },
    {
      "cell_type": "code",
      "execution_count": null,
      "metadata": {
        "id": "BzUwmyxrZKXz"
      },
      "outputs": [],
      "source": [
        "# Generador de distribución de datos para regresión lineal simple\n",
        "def generador_datos_simple(beta, muestras, desviacion):\n",
        "\n",
        "    np.random.seed(42)\n",
        "\n",
        "    # Genero n (muestras) valores de x aleatorios\n",
        "    x = np.random.random(muestras) * 100\n",
        "\n",
        "    # Genero un error aleatorio gaussiano con desviación típica (desviacion)\n",
        "    e = np.random.randn(muestras) * desviacion\n",
        "\n",
        "    # Obtengo el y real como x*beta + error\n",
        "    y = x * beta + e\n",
        "\n",
        "    return x.reshape((muestras,1)), y.reshape((muestras,1)) #50 filas y 1 columna\n",
        "\n",
        "#Link de Interes:\n",
        "#https://docs.scipy.org/doc/numpy-1.15.0/reference/generated/numpy.random.random.html\n",
        "#https://numpy.org/doc/stable/reference/random/generated/numpy.random.randn.html"
      ]
    },
    {
      "cell_type": "code",
      "execution_count": null,
      "metadata": {
        "id": "z8Eq1ndGZKX0"
      },
      "outputs": [],
      "source": [
        "# Parámetros de la distribución\n",
        "desviacion = 200 #desvio estandar\n",
        "beta = 10 #pendiente\n",
        "n = 50 #tamaño de la muestra\n",
        "x, y = generador_datos_simple(beta, n, desviacion)"
      ]
    },
    {
      "cell_type": "code",
      "execution_count": null,
      "metadata": {
        "id": "uB2D8Z8rZKX1",
        "outputId": "0064a186-f6c5-4343-9130-24cf5a0fb6ab"
      },
      "outputs": [
        {
          "data": {
            "image/png": "[encoded data removed]",
            "text/plain": [
              "<Figure size 432x288 with 1 Axes>"
            ]
          },
          "metadata": {
            "needs_background": "light"
          },
          "output_type": "display_data"
        }
      ],
      "source": [
        "# Represento los datos generados\n",
        "plt.scatter(x, y)\n",
        "plt.show()"
      ]
    },
    {
      "cell_type": "code",
      "execution_count": null,
      "metadata": {
        "id": "dgxAxhhFZKX2"
      },
      "outputs": [],
      "source": [
        "# Creo un modelo de regresión lineal\n",
        "modelo = linear_model.LinearRegression()"
      ]
    },
    {
      "cell_type": "code",
      "execution_count": null,
      "metadata": {
        "id": "ZGIFtX7nZKX2",
        "outputId": "317e88c6-f8f9-44e2-eecc-081361d0485b"
      },
      "outputs": [
        {
          "data": {
            "text/plain": [
              "LinearRegression()"
            ]
          },
          "execution_count": 21,
          "metadata": {},
          "output_type": "execute_result"
        }
      ],
      "source": [
        "# Entreno el modelo con los datos (x,y)\n",
        "modelo.fit(x, y)"
      ]
    },
    {
      "cell_type": "code",
      "execution_count": null,
      "metadata": {
        "id": "xExe24CvZKX3",
        "outputId": "9c708931-e878-4286-ab3c-a395b51b1f3d"
      },
      "outputs": [
        {
          "name": "stdout",
          "output_type": "stream",
          "text": [
            "Coeficiente beta1:  [9.55313201]\n"
          ]
        }
      ],
      "source": [
        "# Ahora puedo obtener el coeficiente b_1\n",
        "print (u'Coeficiente beta1: ', modelo.coef_[0]) #Pendiente"
      ]
    },
    {
      "cell_type": "code",
      "execution_count": null,
      "metadata": {
        "id": "I94BO7mFZKX3"
      },
      "outputs": [],
      "source": [
        "# Podemos predecir usando el modelo\n",
        "y_pred = modelo.predict(x) #predigo en base a la variable independiente"
      ]
    },
    {
      "cell_type": "code",
      "execution_count": null,
      "metadata": {
        "id": "cvuNgm52ZKX3",
        "outputId": "22436f37-0613-4fb2-be3f-20d0eb76df9f"
      },
      "outputs": [
        {
          "name": "stdout",
          "output_type": "stream",
          "text": [
            "Error cuadrático medio: 32922.85\n",
            "Estadístico R_2: 0.69\n"
          ]
        }
      ],
      "source": [
        "# Por último, calculamos el error cuadrático medio y el estadístico R^2\n",
        "print (u'Error cuadrático medio: %.2f' % mean_squared_error(y, y_pred))\n",
        "print (u'Estadístico R_2: %.2f' % r2_score(y, y_pred))"
      ]
    },
    {
      "cell_type": "code",
      "execution_count": null,
      "metadata": {
        "id": "wnfVoIkBZKX4",
        "outputId": "59c59952-5bf5-46b1-fb55-ab843312dffc"
      },
      "outputs": [
        {
          "data": {
            "image/png": "[encoded data removed]",
            "text/plain": [
              "<Figure size 432x288 with 1 Axes>"
            ]
          },
          "metadata": {
            "needs_background": "light"
          },
          "output_type": "display_data"
        }
      ],
      "source": [
        "# Representamos el ajuste (rojo) y la recta Y = beta*x (verde)\n",
        "plt.scatter(x, y) #estos son los puntos iniciales\n",
        "plt.plot(x, y_pred, color='red') #recta predicha\n",
        "x_real = np.array([0, 100]) #datos de prueba para x\n",
        "y_real = x_real*beta #datos de prueba para y\n",
        "plt.plot(x_real, y_real, color='green') #recta real\n",
        "plt.show()"
      ]
    }
  ],
  "metadata": {
    "kernelspec": {
      "display_name": "Python 3",
      "language": "python",
      "name": "python3"
    },
    "language_info": {
      "codemirror_mode": {
        "name": "ipython",
        "version": 3
      },
      "file_extension": ".py",
      "mimetype": "text/x-python",
      "name": "python",
      "nbconvert_exporter": "python",
      "pygments_lexer": "ipython3",
      "version": "3.8.5"
    },
    "varInspector": {
      "cols": {
        "lenName": 16,
        "lenType": 16,
        "lenVar": 40
      },
      "kernels_config": {
        "python": {
          "delete_cmd_postfix": "",
          "delete_cmd_prefix": "del ",
          "library": "var_list.py",
          "varRefreshCmd": "print(var_dic_list())"
        },
        "r": {
          "delete_cmd_postfix": ") ",
          "delete_cmd_prefix": "rm(",
          "library": "var_list.r",
          "varRefreshCmd": "cat(var_dic_list()) "
        }
      },
      "types_to_exclude": [
        "module",
        "function",
        "builtin_function_or_method",
        "instance",
        "_Feature"
      ],
      "window_display": false
    },
    "colab": {
      "provenance": [],
      "include_colab_link": true
    }
  },
  "nbformat": 4,
  "nbformat_minor": 0
}