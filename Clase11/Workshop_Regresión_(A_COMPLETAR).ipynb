{
  "cells": [
    {
      "cell_type": "markdown",
      "metadata": {
        "id": "view-in-github",
        "colab_type": "text"
      },
      "source": [
        "<a href=\"https://colab.research.google.com/github/PaolaDaft/ML_Morelos_Notebooks2024/blob/main/Clase11/Workshop_Regresi%C3%B3n_(A_COMPLETAR).ipynb\" target=\"_parent\"><img src=\"https://colab.research.google.com/assets/colab-badge.svg\" alt=\"Open In Colab\"/></a>"
      ]
    },
    {
      "cell_type": "markdown",
      "metadata": {
        "id": "7qGxizBQDNcY"
      },
      "source": [
        "### WorkShop: Regresión!"
      ]
    },
    {
      "cell_type": "markdown",
      "metadata": {
        "id": "6CDdrvJrDNcb"
      },
      "source": [
        "Para iniciar con el workshop, deberemos importar las librerías necesarias para la realización del desafío y el dataset propuesto para la ejercitación."
      ]
    },
    {
      "cell_type": "code",
      "execution_count": 3,
      "metadata": {
        "id": "1SSwqDxCDNcc"
      },
      "outputs": [],
      "source": [
        "###Completar\n",
        "import pandas as pd"
      ]
    },
    {
      "cell_type": "code",
      "source": [
        "from google.colab import files\n",
        "from google.colab import drive\n",
        "drive.mount('/content/drive')"
      ],
      "metadata": {
        "colab": {
          "base_uri": "https://localhost:8080/"
        },
        "id": "uYmwgjBADc44",
        "outputId": "5c6a5d1f-3228-4a25-df7b-c8d377c6e5e8"
      },
      "execution_count": 1,
      "outputs": [
        {
          "output_type": "stream",
          "name": "stdout",
          "text": [
            "Mounted at /content/drive\n"
          ]
        }
      ]
    },
    {
      "cell_type": "code",
      "source": [
        "data_cocheras = pd.read_csv(\"/content/drive/MyDrive/Colab Notebooks/📊 Desarrollo de habilidades en INTELIGENCIA ARTIFICIAL Y DATA/Clase 11/cocheras.csv\", sep = \",\")"
      ],
      "metadata": {
        "id": "SUSFWBEEDlJV"
      },
      "execution_count": 4,
      "outputs": []
    },
    {
      "cell_type": "markdown",
      "metadata": {
        "id": "iseTEptBDNcd"
      },
      "source": [
        "**Resolución**: Modelos de Regresión"
      ]
    },
    {
      "cell_type": "markdown",
      "metadata": {
        "id": "b2-kI3QJDNcd"
      },
      "source": [
        "1. Importar las librerías requeridas de sklearn para la creación de los siguientes modelos:\n",
        "   * Arbol de Decisión para Regresión (DecisionTreeRegressor).\n",
        "   * Random Forest RandomForestRegressor (RandomForestRegressor).\n",
        "   * Regresión Lineal (LinearRegression).\n",
        "   * SVM (SVR).\n",
        "   * Knn (KNeighborsRegressor)\n",
        "\n",
        "Aclaración: Para la resolución de este punto será necesario buscar más información al respecto! 😉"
      ]
    },
    {
      "cell_type": "code",
      "execution_count": null,
      "metadata": {
        "id": "u4QSf3okDNce"
      },
      "outputs": [],
      "source": [
        "###Completar"
      ]
    },
    {
      "cell_type": "markdown",
      "metadata": {
        "id": "C6gzvluBDNce"
      },
      "source": [
        "2. En base al Template propuesto, separar los datos en Train (70 %) y Test (30 %) con un random_state=123475."
      ]
    },
    {
      "cell_type": "code",
      "execution_count": null,
      "metadata": {
        "id": "sWPxy9VZDNce",
        "outputId": "e4e666d7-a05a-47a7-973f-b8aeda3d1de5"
      },
      "outputs": [
        {
          "name": "stdout",
          "output_type": "stream",
          "text": [
            "Dimensión de la matriz de features: (580, 41)\n",
            "Dimensión del vector a predecir: (580,)\n"
          ]
        }
      ],
      "source": [
        "# Lista de features que vamos a considerar como para probar\n",
        "features_cocheras = [ 'COVERED_AREA', 'TOTAL_AREA',\n",
        "       'PROPERTY_AGE', 'HAS_SWIMMING_POOL_No',\n",
        "       'HAS_SWIMMING_POOL_Sí', 'HAS_GRILL_No', 'HAS_GRILL_Sí', 'HAS_STUDY_No',\n",
        "       'HAS_STUDY_Sí', 'HAS_HEATING_No', 'HAS_HEATING_Sí',\n",
        "       'HAS_NATURAL_GAS_No', 'HAS_NATURAL_GAS_Sí', 'FACING_Este',\n",
        "       'FACING_Norte', 'FACING_Oeste', 'FACING_Sur', 'HAS_BALCONY_No',\n",
        "       'HAS_BALCONY_Sí', 'HAS_DRESSING_ROOM_No', 'HAS_DRESSING_ROOM_Sí',\n",
        "       'HAS_GARDEN_No', 'HAS_GARDEN_Sí', 'HAS_HALF_BATH_No',\n",
        "       'HAS_HALF_BATH_Sí', 'HAS_MAID_ROOM_No', 'HAS_MAID_ROOM_Sí',\n",
        "       'HAS_PATIO_No', 'HAS_PATIO_Sí', 'HAS_PLAYROOM_No', 'HAS_PLAYROOM_Sí',\n",
        "       'HAS_TERRACE_No', 'HAS_TERRACE_Sí', 'PROFESSIONAL_USE_ALLOWED_No',\n",
        "       'PROFESSIONAL_USE_ALLOWED_Sí', 'SUITABLE_FOR_MORTGAGE_LOAN_No',\n",
        "       'SUITABLE_FOR_MORTGAGE_LOAN_Sí', 'HAS_SECURITY_No', 'HAS_SECURITY_Sí',\n",
        "       'HAS_LAUNDRY_No', 'HAS_LAUNDRY_Sí' ]\n",
        "\n",
        "# Variable a predecir\n",
        "target_cocheras = 'price'\n",
        "\n",
        "# Construcción de la matriz de features\n",
        "X_cocheras = cocheras[features_cocheras].to_numpy()\n",
        "\n",
        "# Construcción del vector a predecir\n",
        "y_cocheras = cocheras[target_cocheras].to_numpy()\n",
        "\n",
        "print('Dimensión de la matriz de features: {}'.format(X_cocheras.shape))\n",
        "print('Dimensión del vector a predecir: {}'.format(y_cocheras.shape))"
      ]
    },
    {
      "cell_type": "code",
      "execution_count": null,
      "metadata": {
        "id": "kijQnzK1DNcf"
      },
      "outputs": [],
      "source": [
        "###Completar"
      ]
    },
    {
      "cell_type": "markdown",
      "metadata": {
        "id": "P1Cu2wNxDNcg"
      },
      "source": [
        "3.\tCrear los modelos de Regresión solicitados. Con las siguientes características:\n",
        "\n",
        "* LinearRegression()\n",
        "* DecisionTreeRegressor(max_depth=3, random_state=42)\n",
        "* KNeighborsRegressor(n_neighbors=5)\n",
        "* RandomForestRegressor(random_state=11, n_estimators=200)\n",
        "* SVR(kernel='linear', C=100, gamma='auto', degree=3, epsilon=.1, coef0=1)"
      ]
    },
    {
      "cell_type": "code",
      "execution_count": null,
      "metadata": {
        "id": "bSnrtmE8DNcg"
      },
      "outputs": [],
      "source": [
        "###Completar"
      ]
    },
    {
      "cell_type": "markdown",
      "metadata": {
        "id": "vXSfH7iFDNch"
      },
      "source": [
        "4.\tFitear los modelos"
      ]
    },
    {
      "cell_type": "code",
      "execution_count": null,
      "metadata": {
        "id": "fdF9lxnzDNch",
        "outputId": "58f1f94e-807e-47ec-e6ef-39ffbc91bbae"
      },
      "outputs": [
        {
          "data": {
            "text/plain": [
              "SVR(C=100, coef0=1, gamma='auto', kernel='linear')"
            ]
          },
          "execution_count": 7,
          "metadata": {},
          "output_type": "execute_result"
        }
      ],
      "source": [
        "###Completar"
      ]
    },
    {
      "cell_type": "markdown",
      "metadata": {
        "id": "p_zbUWfCDNch"
      },
      "source": [
        "5. Calcular la predicción para cada uno de los modelos desarrollados."
      ]
    },
    {
      "cell_type": "code",
      "execution_count": null,
      "metadata": {
        "id": "P-pdWP6uDNch"
      },
      "outputs": [],
      "source": [
        "###Completar"
      ]
    },
    {
      "cell_type": "code",
      "execution_count": null,
      "metadata": {
        "id": "9fkGY7SZDNci"
      },
      "outputs": [],
      "source": [
        "# Con que modelo nos quedamos? Calcular al menos la metrica de RMSE"
      ]
    }
  ],
  "metadata": {
    "kernelspec": {
      "display_name": "Python 3 (ipykernel)",
      "language": "python",
      "name": "python3"
    },
    "language_info": {
      "codemirror_mode": {
        "name": "ipython",
        "version": 3
      },
      "file_extension": ".py",
      "mimetype": "text/x-python",
      "name": "python",
      "nbconvert_exporter": "python",
      "pygments_lexer": "ipython3",
      "version": "3.9.12"
    },
    "varInspector": {
      "cols": {
        "lenName": 16,
        "lenType": 16,
        "lenVar": 40
      },
      "kernels_config": {
        "python": {
          "delete_cmd_postfix": "",
          "delete_cmd_prefix": "del ",
          "library": "var_list.py",
          "varRefreshCmd": "print(var_dic_list())"
        },
        "r": {
          "delete_cmd_postfix": ") ",
          "delete_cmd_prefix": "rm(",
          "library": "var_list.r",
          "varRefreshCmd": "cat(var_dic_list()) "
        }
      },
      "types_to_exclude": [
        "module",
        "function",
        "builtin_function_or_method",
        "instance",
        "_Feature"
      ],
      "window_display": false
    },
    "colab": {
      "provenance": [],
      "include_colab_link": true
    }
  },
  "nbformat": 4,
  "nbformat_minor": 0
}