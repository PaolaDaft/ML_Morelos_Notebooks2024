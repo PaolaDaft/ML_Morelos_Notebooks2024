{
  "cells": [
    {
      "cell_type": "markdown",
      "metadata": {
        "id": "view-in-github",
        "colab_type": "text"
      },
      "source": [
        "<a href=\"https://colab.research.google.com/github/PaolaDaft/ML_Morelos_Notebooks2024/blob/main/Clase4/Arboles_de_Decision_(Ejemplo_1).ipynb\" target=\"_parent\"><img src=\"https://colab.research.google.com/assets/colab-badge.svg\" alt=\"Open In Colab\"/></a>"
      ]
    },
    {
      "cell_type": "markdown",
      "metadata": {
        "id": "o1lsm1YPW3Yt"
      },
      "source": [
        "Empecemos probando un Árbol de Decisión, con nuestro famoso dataset de **Iris** 😀"
      ]
    },
    {
      "cell_type": "code",
      "execution_count": null,
      "metadata": {
        "id": "HdHs-w7aW3Yw"
      },
      "outputs": [],
      "source": [
        "#Importamos la librerias\n",
        "import pandas as pd\n",
        "import numpy as np\n",
        "\n",
        "import matplotlib.pyplot as plt\n",
        "import seaborn as sns\n",
        "\n",
        "from sklearn.datasets import load_iris"
      ]
    },
    {
      "cell_type": "code",
      "execution_count": null,
      "metadata": {
        "scrolled": false,
        "id": "0WzoSe2lW3Yx"
      },
      "outputs": [],
      "source": [
        "#Convertimos a nuestro objeto en un dataframe\n",
        "iris = load_iris()\n",
        "data_frame = pd.DataFrame(data= np.c_[iris['data'], iris['target']],\n",
        "                     columns= iris['feature_names'] + ['target'])"
      ]
    },
    {
      "cell_type": "code",
      "execution_count": null,
      "metadata": {
        "scrolled": true,
        "id": "YVKaiN8BW3Yy",
        "outputId": "831df635-5463-4f0c-8470-c3d2f068af72"
      },
      "outputs": [
        {
          "name": "stdout",
          "output_type": "stream",
          "text": [
            "(150, 5)\n"
          ]
        }
      ],
      "source": [
        "#Veamos el shape\n",
        "print(data_frame.shape)"
      ]
    },
    {
      "cell_type": "code",
      "execution_count": null,
      "metadata": {
        "id": "-qVSMPZJW3Yy"
      },
      "outputs": [],
      "source": [
        "#Seperamos en X e y\n",
        "X = data_frame.drop(\"target\", axis=1) #Elimino de mi dataset la variable a predecir\n",
        "y = data_frame.target #Defino el Target"
      ]
    },
    {
      "cell_type": "code",
      "execution_count": null,
      "metadata": {
        "id": "oL4lAdsEW3Yz"
      },
      "outputs": [],
      "source": [
        "#Importamos la libreria para separar en train y test\n",
        "from sklearn.model_selection import train_test_split\n",
        "\n",
        "#Me quedo con 30% para test y 70% para train\n",
        "X_train, X_test, y_train, y_test = train_test_split(X, y, test_size=0.30, random_state=42)"
      ]
    },
    {
      "cell_type": "code",
      "execution_count": null,
      "metadata": {
        "id": "dBpEGdn4W3Yz"
      },
      "outputs": [],
      "source": [
        "from sklearn.tree import DecisionTreeClassifier #Importamos el modelo\n",
        "tree = DecisionTreeClassifier(max_depth=2, random_state = 42) #Creamos el modelo"
      ]
    },
    {
      "cell_type": "code",
      "execution_count": null,
      "metadata": {
        "scrolled": true,
        "id": "TCj1stdrW3Yz",
        "outputId": "62c6794d-985e-4a17-9251-9a483fb6a96c"
      },
      "outputs": [
        {
          "data": {
            "text/plain": [
              "DecisionTreeClassifier(max_depth=2, random_state=42)"
            ]
          },
          "execution_count": 101,
          "metadata": {},
          "output_type": "execute_result"
        }
      ],
      "source": [
        "#Entrenamos el modelo\n",
        "tree.fit(X_train,y_train)"
      ]
    },
    {
      "cell_type": "code",
      "execution_count": null,
      "metadata": {
        "id": "eUEqwytOW3Y0"
      },
      "outputs": [],
      "source": [
        "y_train_pred = tree.predict(X_train) #Prediccion en Train\n",
        "y_test_pred = tree.predict(X_test) #Prediccion en Test"
      ]
    },
    {
      "cell_type": "code",
      "execution_count": null,
      "metadata": {
        "id": "sU32R4VXW3Y0",
        "outputId": "de33e5b7-5cf1-47b7-a867-eed0aa6ee5af"
      },
      "outputs": [
        {
          "name": "stdout",
          "output_type": "stream",
          "text": [
            "% de aciertos sobre el set de entrenamiento: 0.9428571428571428\n",
            "% de aciertos sobre el set de evaluación: 0.9777777777777777\n"
          ]
        }
      ],
      "source": [
        "from sklearn.metrics import accuracy_score\n",
        "\n",
        "#Calculo el accuracy en Train\n",
        "train_accuracy = accuracy_score(y_train, y_train_pred)\n",
        "\n",
        "#Calculo el accuracy en Test\n",
        "test_accuracy = accuracy_score(y_test, y_test_pred)\n",
        "\n",
        "print('% de aciertos sobre el set de entrenamiento:', train_accuracy)\n",
        "print('% de aciertos sobre el set de evaluación:',test_accuracy)"
      ]
    }
  ],
  "metadata": {
    "kernelspec": {
      "display_name": "Python 3",
      "language": "python",
      "name": "python3"
    },
    "language_info": {
      "codemirror_mode": {
        "name": "ipython",
        "version": 3
      },
      "file_extension": ".py",
      "mimetype": "text/x-python",
      "name": "python",
      "nbconvert_exporter": "python",
      "pygments_lexer": "ipython3",
      "version": "3.8.5"
    },
    "varInspector": {
      "cols": {
        "lenName": 16,
        "lenType": 16,
        "lenVar": 40
      },
      "kernels_config": {
        "python": {
          "delete_cmd_postfix": "",
          "delete_cmd_prefix": "del ",
          "library": "var_list.py",
          "varRefreshCmd": "print(var_dic_list())"
        },
        "r": {
          "delete_cmd_postfix": ") ",
          "delete_cmd_prefix": "rm(",
          "library": "var_list.r",
          "varRefreshCmd": "cat(var_dic_list()) "
        }
      },
      "types_to_exclude": [
        "module",
        "function",
        "builtin_function_or_method",
        "instance",
        "_Feature"
      ],
      "window_display": false
    },
    "colab": {
      "provenance": [],
      "include_colab_link": true
    }
  },
  "nbformat": 4,
  "nbformat_minor": 0
}