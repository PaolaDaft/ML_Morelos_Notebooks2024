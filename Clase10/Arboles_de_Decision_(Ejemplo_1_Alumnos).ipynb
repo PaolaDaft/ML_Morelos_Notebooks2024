{
  "cells": [
    {
      "cell_type": "markdown",
      "metadata": {
        "id": "view-in-github",
        "colab_type": "text"
      },
      "source": [
        "<a href=\"https://colab.research.google.com/github/PaolaDaft/ML_Morelos_Notebooks2024/blob/main/Clase10/Arboles_de_Decision_(Ejemplo_1_Alumnos).ipynb\" target=\"_parent\"><img src=\"https://colab.research.google.com/assets/colab-badge.svg\" alt=\"Open In Colab\"/></a>"
      ]
    },
    {
      "cell_type": "markdown",
      "metadata": {
        "id": "oKgg1N8cJa7E"
      },
      "source": [
        "### Árbol de Decisión modelo de Clasificación en Scikit-Learn - Titanic"
      ]
    },
    {
      "cell_type": "code",
      "execution_count": 1,
      "metadata": {
        "id": "nLnA2vbiJa7H"
      },
      "outputs": [],
      "source": [
        "import pandas as pd\n",
        "import numpy as np\n",
        "import matplotlib.pyplot as plt"
      ]
    },
    {
      "cell_type": "code",
      "source": [
        "from google.colab import files\n",
        "from google.colab import drive\n",
        "drive.mount('/content/drive')"
      ],
      "metadata": {
        "colab": {
          "base_uri": "https://localhost:8080/"
        },
        "id": "5JkbqgLTKUbv",
        "outputId": "003307ad-5801-4a43-918c-8af58b79c30b"
      },
      "execution_count": 4,
      "outputs": [
        {
          "output_type": "stream",
          "name": "stdout",
          "text": [
            "Drive already mounted at /content/drive; to attempt to forcibly remount, call drive.mount(\"/content/drive\", force_remount=True).\n"
          ]
        }
      ]
    },
    {
      "cell_type": "code",
      "source": [
        "titanic = pd.read_csv(\"/content/drive/MyDrive/Colab Notebooks/📊 Desarrollo de habilidades en INTELIGENCIA ARTIFICIAL Y DATA/Clase 5/Workshop/Titanic.csv\", sep = \",\")"
      ],
      "metadata": {
        "id": "COtMg0aZKXdg"
      },
      "execution_count": 5,
      "outputs": []
    },
    {
      "cell_type": "code",
      "execution_count": null,
      "metadata": {
        "id": "IZESV4reJa7J"
      },
      "outputs": [],
      "source": [
        "#Separación en Train y Test\n",
        "X = titanic.drop(\"Survived\", axis=1)\n",
        "y = titanic.Survived"
      ]
    },
    {
      "cell_type": "code",
      "execution_count": null,
      "metadata": {
        "id": "i-nTqDaPJa7J"
      },
      "outputs": [],
      "source": [
        "from sklearn.model_selection import train_test_split\n",
        "\n",
        "#Train y Test Split\n",
        "X_train, X_test, y_train, y_test = train_test_split(X, y, test_size=0.30, random_state=42)"
      ]
    },
    {
      "cell_type": "code",
      "execution_count": null,
      "metadata": {
        "id": "d8jDj4HaJa7J"
      },
      "outputs": [],
      "source": [
        "#Arbol de Decision\n",
        "from sklearn.tree import DecisionTreeClassifier\n",
        "arbol_de_decision = DecisionTreeClassifier(max_depth=2, random_state = 42)"
      ]
    },
    {
      "cell_type": "code",
      "execution_count": null,
      "metadata": {
        "id": "CbJxml0lJa7K",
        "outputId": "28001d45-1a85-4cb1-d5c1-8af9d2df4f31"
      },
      "outputs": [
        {
          "data": {
            "text/plain": [
              "DecisionTreeClassifier(max_depth=2, random_state=42)"
            ]
          },
          "execution_count": 26,
          "metadata": {},
          "output_type": "execute_result"
        }
      ],
      "source": [
        "#Fit\n",
        "arbol_de_decision.fit(X_train,y_train) #Entrenamos el modelo"
      ]
    },
    {
      "cell_type": "code",
      "execution_count": null,
      "metadata": {
        "id": "z1gGw3iuJa7L"
      },
      "outputs": [],
      "source": [
        "#Prediccion\n",
        "y_test_pred = arbol_de_decision.predict(X_test)"
      ]
    },
    {
      "cell_type": "markdown",
      "metadata": {
        "id": "7S0ipgBaJa7L"
      },
      "source": [
        "A lo largo de este notebook, se solicita calcular las métricas requeridas como así también su correspondiente interpretación:\n",
        "\n",
        "1. Calcular la métrica Accuracy."
      ]
    },
    {
      "cell_type": "code",
      "execution_count": null,
      "metadata": {
        "id": "amkj37cPJa7M"
      },
      "outputs": [],
      "source": [
        "###Completar"
      ]
    },
    {
      "cell_type": "markdown",
      "metadata": {
        "id": "9QcZe6l1Ja7M"
      },
      "source": [
        "2. Crear la Matriz de Confusión"
      ]
    },
    {
      "cell_type": "code",
      "execution_count": null,
      "metadata": {
        "id": "eBmXR07cJa7M"
      },
      "outputs": [],
      "source": [
        "###Completar"
      ]
    },
    {
      "cell_type": "markdown",
      "metadata": {
        "id": "kmfdJiYkJa7M"
      },
      "source": [
        "3. Calcular la métrica Precision"
      ]
    },
    {
      "cell_type": "code",
      "execution_count": null,
      "metadata": {
        "id": "jO64Oe8OJa7N"
      },
      "outputs": [],
      "source": [
        "###Completar"
      ]
    },
    {
      "cell_type": "markdown",
      "metadata": {
        "id": "yiRoZf6cJa7N"
      },
      "source": [
        "4. Calcular la métrica Recall"
      ]
    },
    {
      "cell_type": "code",
      "execution_count": null,
      "metadata": {
        "id": "rEpta5LOJa7N"
      },
      "outputs": [],
      "source": [
        "###Completar"
      ]
    },
    {
      "cell_type": "markdown",
      "metadata": {
        "id": "--M_Xkp4Ja7N"
      },
      "source": [
        "5. Calcular la métrica F1 score"
      ]
    },
    {
      "cell_type": "code",
      "execution_count": null,
      "metadata": {
        "id": "SHyEcfQ2Ja7N"
      },
      "outputs": [],
      "source": [
        "###Completar"
      ]
    },
    {
      "cell_type": "markdown",
      "metadata": {
        "id": "cSCrw5wJJa7N"
      },
      "source": [
        "6. Calcular y plotear la Curva ROC"
      ]
    },
    {
      "cell_type": "code",
      "execution_count": null,
      "metadata": {
        "id": "B4LaRVrpJa7N"
      },
      "outputs": [],
      "source": [
        "###Completar"
      ]
    }
  ],
  "metadata": {
    "kernelspec": {
      "display_name": "Python 3",
      "language": "python",
      "name": "python3"
    },
    "language_info": {
      "codemirror_mode": {
        "name": "ipython",
        "version": 3
      },
      "file_extension": ".py",
      "mimetype": "text/x-python",
      "name": "python",
      "nbconvert_exporter": "python",
      "pygments_lexer": "ipython3",
      "version": "3.8.5"
    },
    "varInspector": {
      "cols": {
        "lenName": 16,
        "lenType": 16,
        "lenVar": 40
      },
      "kernels_config": {
        "python": {
          "delete_cmd_postfix": "",
          "delete_cmd_prefix": "del ",
          "library": "var_list.py",
          "varRefreshCmd": "print(var_dic_list())"
        },
        "r": {
          "delete_cmd_postfix": ") ",
          "delete_cmd_prefix": "rm(",
          "library": "var_list.r",
          "varRefreshCmd": "cat(var_dic_list()) "
        }
      },
      "types_to_exclude": [
        "module",
        "function",
        "builtin_function_or_method",
        "instance",
        "_Feature"
      ],
      "window_display": false
    },
    "colab": {
      "provenance": [],
      "include_colab_link": true
    }
  },
  "nbformat": 4,
  "nbformat_minor": 0
}