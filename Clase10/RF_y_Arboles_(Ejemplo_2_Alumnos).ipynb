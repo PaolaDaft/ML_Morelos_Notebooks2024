{
  "cells": [
    {
      "cell_type": "markdown",
      "metadata": {
        "id": "view-in-github",
        "colab_type": "text"
      },
      "source": [
        "<a href=\"https://colab.research.google.com/github/PaolaDaft/ML_Morelos_Notebooks2024/blob/main/Clase10/RF_y_Arboles_(Ejemplo_2_Alumnos).ipynb\" target=\"_parent\"><img src=\"https://colab.research.google.com/assets/colab-badge.svg\" alt=\"Open In Colab\"/></a>"
      ]
    },
    {
      "cell_type": "code",
      "execution_count": null,
      "metadata": {
        "id": "TpUHhGBcJc7U"
      },
      "outputs": [],
      "source": [
        "#Carga de las librerías\n",
        "import urllib.request\n",
        "import pandas as pd\n",
        "from sklearn.model_selection import train_test_split\n",
        "from sklearn.ensemble import RandomForestClassifier\n",
        "from sklearn.tree import DecisionTreeClassifier"
      ]
    },
    {
      "cell_type": "code",
      "execution_count": null,
      "metadata": {
        "id": "rPLLiQjlJc7V",
        "outputId": "aec66ee6-0ce6-474f-c146-088579abf463"
      },
      "outputs": [
        {
          "name": "stdout",
          "output_type": "stream",
          "text": [
            "Descargando el dataset\n"
          ]
        }
      ],
      "source": [
        "#Descargamos los datos desde internet!\n",
        "file_name = 'dataR2.csv'\n",
        "\n",
        "def download_file(file_name):\n",
        "    print('Descargando el dataset')\n",
        "    url = 'https://archive.ics.uci.edu/ml/machine-learning-databases/00451/dataR2.csv'\n",
        "    urllib.request.urlretrieve(url, file_name)\n",
        "\n",
        "\n",
        "download_file(file_name)"
      ]
    },
    {
      "cell_type": "code",
      "execution_count": null,
      "metadata": {
        "id": "tlWJUaIRJc7X",
        "outputId": "928b0371-6a46-4731-9c9c-34cf2ad5bd97"
      },
      "outputs": [
        {
          "data": {
            "text/html": [
              "<div>\n",
              "<style scoped>\n",
              "    .dataframe tbody tr th:only-of-type {\n",
              "        vertical-align: middle;\n",
              "    }\n",
              "\n",
              "    .dataframe tbody tr th {\n",
              "        vertical-align: top;\n",
              "    }\n",
              "\n",
              "    .dataframe thead th {\n",
              "        text-align: right;\n",
              "    }\n",
              "</style>\n",
              "<table border=\"1\" class=\"dataframe\">\n",
              "  <thead>\n",
              "    <tr style=\"text-align: right;\">\n",
              "      <th></th>\n",
              "      <th>Age</th>\n",
              "      <th>BMI</th>\n",
              "      <th>Glucose</th>\n",
              "      <th>Insulin</th>\n",
              "      <th>HOMA</th>\n",
              "      <th>Leptin</th>\n",
              "      <th>Adiponectin</th>\n",
              "      <th>Resistin</th>\n",
              "      <th>MCP.1</th>\n",
              "      <th>Classification</th>\n",
              "    </tr>\n",
              "  </thead>\n",
              "  <tbody>\n",
              "    <tr>\n",
              "      <th>0</th>\n",
              "      <td>48</td>\n",
              "      <td>23.500000</td>\n",
              "      <td>70</td>\n",
              "      <td>2.707</td>\n",
              "      <td>0.467409</td>\n",
              "      <td>8.8071</td>\n",
              "      <td>9.702400</td>\n",
              "      <td>7.99585</td>\n",
              "      <td>417.114</td>\n",
              "      <td>1</td>\n",
              "    </tr>\n",
              "    <tr>\n",
              "      <th>1</th>\n",
              "      <td>83</td>\n",
              "      <td>20.690495</td>\n",
              "      <td>92</td>\n",
              "      <td>3.115</td>\n",
              "      <td>0.706897</td>\n",
              "      <td>8.8438</td>\n",
              "      <td>5.429285</td>\n",
              "      <td>4.06405</td>\n",
              "      <td>468.786</td>\n",
              "      <td>1</td>\n",
              "    </tr>\n",
              "    <tr>\n",
              "      <th>2</th>\n",
              "      <td>82</td>\n",
              "      <td>23.124670</td>\n",
              "      <td>91</td>\n",
              "      <td>4.498</td>\n",
              "      <td>1.009651</td>\n",
              "      <td>17.9393</td>\n",
              "      <td>22.432040</td>\n",
              "      <td>9.27715</td>\n",
              "      <td>554.697</td>\n",
              "      <td>1</td>\n",
              "    </tr>\n",
              "    <tr>\n",
              "      <th>3</th>\n",
              "      <td>68</td>\n",
              "      <td>21.367521</td>\n",
              "      <td>77</td>\n",
              "      <td>3.226</td>\n",
              "      <td>0.612725</td>\n",
              "      <td>9.8827</td>\n",
              "      <td>7.169560</td>\n",
              "      <td>12.76600</td>\n",
              "      <td>928.220</td>\n",
              "      <td>1</td>\n",
              "    </tr>\n",
              "    <tr>\n",
              "      <th>4</th>\n",
              "      <td>86</td>\n",
              "      <td>21.111111</td>\n",
              "      <td>92</td>\n",
              "      <td>3.549</td>\n",
              "      <td>0.805386</td>\n",
              "      <td>6.6994</td>\n",
              "      <td>4.819240</td>\n",
              "      <td>10.57635</td>\n",
              "      <td>773.920</td>\n",
              "      <td>1</td>\n",
              "    </tr>\n",
              "  </tbody>\n",
              "</table>\n",
              "</div>"
            ],
            "text/plain": [
              "   Age        BMI  Glucose  Insulin      HOMA   Leptin  Adiponectin  Resistin  \\\n",
              "0   48  23.500000       70    2.707  0.467409   8.8071     9.702400   7.99585   \n",
              "1   83  20.690495       92    3.115  0.706897   8.8438     5.429285   4.06405   \n",
              "2   82  23.124670       91    4.498  1.009651  17.9393    22.432040   9.27715   \n",
              "3   68  21.367521       77    3.226  0.612725   9.8827     7.169560  12.76600   \n",
              "4   86  21.111111       92    3.549  0.805386   6.6994     4.819240  10.57635   \n",
              "\n",
              "     MCP.1  Classification  \n",
              "0  417.114               1  \n",
              "1  468.786               1  \n",
              "2  554.697               1  \n",
              "3  928.220               1  \n",
              "4  773.920               1  "
            ]
          },
          "execution_count": 3,
          "metadata": {},
          "output_type": "execute_result"
        }
      ],
      "source": [
        "#Ahora si cargamos los datos en jupyter!\n",
        "data = pd.read_csv(file_name)\n",
        "data.head()"
      ]
    },
    {
      "cell_type": "markdown",
      "metadata": {
        "id": "DsmLSoyPJc7X"
      },
      "source": [
        "**Insights**:\n",
        "\n",
        "* El dataset se compone de 10 columnas de las cuales 9 corresponden a variables independientes, que usaremos para predecir el target.\n",
        "\n",
        "* Classification es la variable a predecir. Todas las variables son numéricas, ya sea enteras o reales y no tiene valores nulos."
      ]
    },
    {
      "cell_type": "code",
      "execution_count": null,
      "metadata": {
        "id": "UKFIvU70Jc7Y"
      },
      "outputs": [],
      "source": [
        "#Separamos en X e y\n",
        "X = data.drop([\"Classification\"], axis=1)\n",
        "y = data[\"Classification\"]"
      ]
    },
    {
      "cell_type": "code",
      "execution_count": null,
      "metadata": {
        "id": "hxwZCun8Jc7Y"
      },
      "outputs": [],
      "source": [
        "#Separamos en train y test!\n",
        "(X_train, X_test,\n",
        "y_train, y_test) = train_test_split(X,\n",
        "                                    y,\n",
        "                                    stratify=y,\n",
        "                                    test_size=0.30,\n",
        "                                    random_state=11)"
      ]
    },
    {
      "cell_type": "code",
      "execution_count": null,
      "metadata": {
        "id": "jxz7IG4FJc7Z",
        "outputId": "83eda175-979f-4be4-e9a0-a1d995dc1a21"
      },
      "outputs": [
        {
          "data": {
            "text/plain": [
              "DecisionTreeClassifier(random_state=11)"
            ]
          },
          "execution_count": 6,
          "metadata": {},
          "output_type": "execute_result"
        }
      ],
      "source": [
        "#Creamos un arbol de decisión sencillo y lo fiteamos\n",
        "tree = DecisionTreeClassifier(random_state=11)\n",
        "tree.fit(X_train, y_train)"
      ]
    },
    {
      "cell_type": "code",
      "execution_count": null,
      "metadata": {
        "id": "DIZXlzv8Jc7Z"
      },
      "outputs": [],
      "source": [
        "y_test_pred = tree.predict(X_test) #Prediccion en Test"
      ]
    },
    {
      "cell_type": "markdown",
      "metadata": {
        "id": "zU5ETA3gJc7Z"
      },
      "source": [
        "A lo largo de este notebook, se solicita calcular las métricas requeridas como así también su correspondiente interpretación:\n",
        "\n",
        "1. Calcular la métrica Accuracy."
      ]
    },
    {
      "cell_type": "code",
      "execution_count": null,
      "metadata": {
        "id": "43-4AOl7Jc7Z"
      },
      "outputs": [],
      "source": [
        "###Completar"
      ]
    },
    {
      "cell_type": "markdown",
      "metadata": {
        "id": "yF8MER0iJc7a"
      },
      "source": [
        "2. Crear la Matriz de Confusión"
      ]
    },
    {
      "cell_type": "code",
      "execution_count": null,
      "metadata": {
        "id": "_sHqu3ZQJc7a"
      },
      "outputs": [],
      "source": [
        "###Completar"
      ]
    },
    {
      "cell_type": "markdown",
      "metadata": {
        "id": "rJmYQcpSJc7a"
      },
      "source": [
        "3. Calcular la métrica Recall"
      ]
    },
    {
      "cell_type": "code",
      "execution_count": null,
      "metadata": {
        "id": "UubFNjM0Jc7a"
      },
      "outputs": [],
      "source": [
        "###Completar"
      ]
    },
    {
      "cell_type": "markdown",
      "metadata": {
        "id": "0yT3oJEzJc7a"
      },
      "source": [
        "4.Calcular la métrica F1 score"
      ]
    },
    {
      "cell_type": "code",
      "execution_count": null,
      "metadata": {
        "id": "_xX6VvAmJc7a"
      },
      "outputs": [],
      "source": [
        "###Completar"
      ]
    },
    {
      "cell_type": "markdown",
      "metadata": {
        "id": "WU758qXdJc7a"
      },
      "source": [
        "# Random Forest"
      ]
    },
    {
      "cell_type": "code",
      "execution_count": null,
      "metadata": {
        "id": "11yNcjCSJc7a",
        "outputId": "5aca51b0-d4fe-43a3-d084-d70b95b0fbc5"
      },
      "outputs": [
        {
          "data": {
            "text/plain": [
              "RandomForestClassifier(class_weight='balanced', max_features='log2',\n",
              "                       n_estimators=200, random_state=11)"
            ]
          },
          "execution_count": 8,
          "metadata": {},
          "output_type": "execute_result"
        }
      ],
      "source": [
        "#Creamos un random forest!\n",
        "model = RandomForestClassifier(random_state=11, n_estimators=200,\n",
        "                               class_weight=\"balanced\", max_features=\"log2\")\n",
        "model.fit(X_train, y_train)"
      ]
    },
    {
      "cell_type": "code",
      "execution_count": null,
      "metadata": {
        "id": "u0dhr1rGJc7b"
      },
      "outputs": [],
      "source": [
        "y_test_pred = model.predict(X_test) #Prediccion en Test"
      ]
    },
    {
      "cell_type": "markdown",
      "metadata": {
        "id": "KZzAPD3UJc7b"
      },
      "source": [
        "1. Calcular la métrica Accuracy."
      ]
    },
    {
      "cell_type": "code",
      "execution_count": null,
      "metadata": {
        "id": "ACJvNs4NJc7b"
      },
      "outputs": [],
      "source": [
        "###Completar"
      ]
    },
    {
      "cell_type": "markdown",
      "metadata": {
        "id": "n9IiuwobJc7b"
      },
      "source": [
        "2. Calcular la métrica Precision"
      ]
    },
    {
      "cell_type": "code",
      "execution_count": null,
      "metadata": {
        "id": "jcLD2dZKJc7b"
      },
      "outputs": [],
      "source": [
        "###Completar"
      ]
    },
    {
      "cell_type": "markdown",
      "metadata": {
        "id": "sw56fPSDJc7b"
      },
      "source": [
        "3. Calcular la métrica Recall"
      ]
    },
    {
      "cell_type": "code",
      "execution_count": null,
      "metadata": {
        "id": "xUOEILX9Jc7b"
      },
      "outputs": [],
      "source": [
        "###Completar"
      ]
    },
    {
      "cell_type": "markdown",
      "metadata": {
        "id": "jJ931o3qJc7b"
      },
      "source": [
        "4. Calcular la métrica F1 score"
      ]
    },
    {
      "cell_type": "code",
      "execution_count": null,
      "metadata": {
        "id": "V5ZY5oMAJc7b"
      },
      "outputs": [],
      "source": [
        "###Completar"
      ]
    }
  ],
  "metadata": {
    "kernelspec": {
      "display_name": "Python 3",
      "language": "python",
      "name": "python3"
    },
    "language_info": {
      "codemirror_mode": {
        "name": "ipython",
        "version": 3
      },
      "file_extension": ".py",
      "mimetype": "text/x-python",
      "name": "python",
      "nbconvert_exporter": "python",
      "pygments_lexer": "ipython3",
      "version": "3.8.5"
    },
    "varInspector": {
      "cols": {
        "lenName": 16,
        "lenType": 16,
        "lenVar": 40
      },
      "kernels_config": {
        "python": {
          "delete_cmd_postfix": "",
          "delete_cmd_prefix": "del ",
          "library": "var_list.py",
          "varRefreshCmd": "print(var_dic_list())"
        },
        "r": {
          "delete_cmd_postfix": ") ",
          "delete_cmd_prefix": "rm(",
          "library": "var_list.r",
          "varRefreshCmd": "cat(var_dic_list()) "
        }
      },
      "types_to_exclude": [
        "module",
        "function",
        "builtin_function_or_method",
        "instance",
        "_Feature"
      ],
      "window_display": false
    },
    "colab": {
      "provenance": [],
      "include_colab_link": true
    }
  },
  "nbformat": 4,
  "nbformat_minor": 0
}