{
  "cells": [
    {
      "cell_type": "markdown",
      "metadata": {
        "id": "view-in-github",
        "colab_type": "text"
      },
      "source": [
        "<a href=\"https://colab.research.google.com/github/PaolaDaft/ML_Morelos_Notebooks2024/blob/main/Clase5/Workshop_ML_Clasificacion_(A_COMPLETAR).ipynb\" target=\"_parent\"><img src=\"https://colab.research.google.com/assets/colab-badge.svg\" alt=\"Open In Colab\"/></a>"
      ]
    },
    {
      "cell_type": "markdown",
      "metadata": {
        "id": "QV02FbfsdkG1"
      },
      "source": [
        "### WorkShop: Árbol de Decisión modelo de Clasificación en Scikit-Learn - Titanic\n",
        "\n",
        "**Resolución**: EDA (Análisis Exploratorio de Datos)"
      ]
    },
    {
      "cell_type": "markdown",
      "metadata": {
        "id": "dRrsx5lddkG-"
      },
      "source": [
        "1. Importar las librerías necesarias para la realización del desafío y el dataset propuesto para la ejercitación."
      ]
    },
    {
      "cell_type": "code",
      "execution_count": 4,
      "metadata": {
        "id": "CxbTkpbOdkHA"
      },
      "outputs": [],
      "source": [
        "import numpy as np\n",
        "import pandas as pd\n",
        "import matplotlib.pyplot as plt"
      ]
    },
    {
      "cell_type": "code",
      "source": [
        "from google.colab import files\n",
        "from google.colab import drive\n",
        "drive.mount('/content/drive')"
      ],
      "metadata": {
        "colab": {
          "base_uri": "https://localhost:8080/"
        },
        "id": "4HIeRfiFhw5J",
        "outputId": "4515e30c-99a4-43b0-ac24-b3d823c9dc73"
      },
      "execution_count": 2,
      "outputs": [
        {
          "output_type": "stream",
          "name": "stdout",
          "text": [
            "Mounted at /content/drive\n"
          ]
        }
      ]
    },
    {
      "cell_type": "code",
      "source": [
        "data_tennis = pd.read_csv(\"/content/drive/MyDrive/Colab Notebooks/📊 Desarrollo de habilidades en INTELIGENCIA ARTIFICIAL Y DATA/Clase 5/Workshop/Titanic.csv\", sep = \",\")"
      ],
      "metadata": {
        "id": "2RO-6SLQh0f9"
      },
      "execution_count": 5,
      "outputs": []
    },
    {
      "cell_type": "markdown",
      "metadata": {
        "id": "ipYwgdaqdkHD"
      },
      "source": [
        "2. Imprimir las 5 primeras filas del dataset."
      ]
    },
    {
      "cell_type": "code",
      "execution_count": null,
      "metadata": {
        "id": "V3ylCToOdkHE"
      },
      "outputs": [],
      "source": [
        "###Completar"
      ]
    },
    {
      "cell_type": "markdown",
      "metadata": {
        "id": "kDqP7b1VdkHF"
      },
      "source": [
        "3. Imprimir las 5 primeras últimas filas del dataset."
      ]
    },
    {
      "cell_type": "code",
      "execution_count": null,
      "metadata": {
        "id": "srm8qA9vdkHG"
      },
      "outputs": [],
      "source": [
        "###Completar"
      ]
    },
    {
      "cell_type": "markdown",
      "metadata": {
        "id": "kYy22vhrdkHH"
      },
      "source": [
        "4. Imprimir las dimensiones del dataset."
      ]
    },
    {
      "cell_type": "code",
      "execution_count": null,
      "metadata": {
        "id": "WwfqdTfldkHI"
      },
      "outputs": [],
      "source": [
        "###Completar"
      ]
    },
    {
      "cell_type": "markdown",
      "metadata": {
        "id": "g7bMdGc3dkHJ"
      },
      "source": [
        "5. Obtener la totalidad de registros por columnas"
      ]
    },
    {
      "cell_type": "code",
      "execution_count": null,
      "metadata": {
        "id": "P8L_OkbBdkHK"
      },
      "outputs": [],
      "source": [
        "###Completar"
      ]
    },
    {
      "cell_type": "markdown",
      "metadata": {
        "id": "NNtDmlBjdkHK"
      },
      "source": [
        "6. Analizar el tipo de dato de cada columna"
      ]
    },
    {
      "cell_type": "code",
      "execution_count": null,
      "metadata": {
        "id": "lMkKhGq3dkHL"
      },
      "outputs": [],
      "source": [
        "###Completar"
      ]
    },
    {
      "cell_type": "markdown",
      "metadata": {
        "id": "HSZinGI8dkHM"
      },
      "source": [
        "7. Obtener el tipo de estructura del dataset"
      ]
    },
    {
      "cell_type": "code",
      "execution_count": null,
      "metadata": {
        "id": "0iyCehC-dkHM"
      },
      "outputs": [],
      "source": [
        "###Completar"
      ]
    },
    {
      "cell_type": "markdown",
      "metadata": {
        "id": "ouFpSY6ddkHN"
      },
      "source": [
        "8. Listar los nombres de las columnas"
      ]
    },
    {
      "cell_type": "code",
      "execution_count": null,
      "metadata": {
        "id": "hogwGt0GdkHN"
      },
      "outputs": [],
      "source": [
        "###Completar"
      ]
    },
    {
      "cell_type": "markdown",
      "metadata": {
        "id": "gmLbChJAdkHO"
      },
      "source": [
        "**Resolución**: Machine Learning - Modelo de Clasificación"
      ]
    },
    {
      "cell_type": "markdown",
      "metadata": {
        "id": "toqmRLUudkHO"
      },
      "source": [
        "9.\tSeparar los features en X e y"
      ]
    },
    {
      "cell_type": "code",
      "execution_count": null,
      "metadata": {
        "id": "4rkvkuy1dkHO"
      },
      "outputs": [],
      "source": [
        "###Completar"
      ]
    },
    {
      "cell_type": "markdown",
      "metadata": {
        "id": "fiF0jwy2dkHP"
      },
      "source": [
        "10. Separar los datos en Train (70 %) y Test (30 %) con un random_state=42."
      ]
    },
    {
      "cell_type": "code",
      "execution_count": null,
      "metadata": {
        "id": "0QOEfay8dkHP"
      },
      "outputs": [],
      "source": [
        "###Completar"
      ]
    },
    {
      "cell_type": "markdown",
      "metadata": {
        "id": "Y5y32amcdkHQ"
      },
      "source": [
        "11.\tCrear un objeto de Árbol de Decisión para un modelo de clasificación, con un Nivel de Profundidad = 2 y una Semilla para la reproducibilidad = 42"
      ]
    },
    {
      "cell_type": "code",
      "execution_count": null,
      "metadata": {
        "id": "1VnAo1kqdkHR"
      },
      "outputs": [],
      "source": [
        "###Completar"
      ]
    },
    {
      "cell_type": "markdown",
      "metadata": {
        "id": "IfSb9ZiLdkHR"
      },
      "source": [
        "12.\tEntrenar el modelo creado"
      ]
    },
    {
      "cell_type": "code",
      "execution_count": null,
      "metadata": {
        "id": "fiPdxBvodkHR"
      },
      "outputs": [],
      "source": [
        "###Completar"
      ]
    },
    {
      "cell_type": "markdown",
      "metadata": {
        "id": "tH4qzvkFdkHR"
      },
      "source": [
        "13. Realizar la predicción del modelo en Train y Test"
      ]
    },
    {
      "cell_type": "code",
      "execution_count": null,
      "metadata": {
        "id": "cLRMNZgIdkHR"
      },
      "outputs": [],
      "source": [
        "###Completar"
      ]
    },
    {
      "cell_type": "markdown",
      "metadata": {
        "id": "uVkb_C4ddkHS"
      },
      "source": [
        "14.\tCalcular la métrica de Accuracy en Train y Test"
      ]
    },
    {
      "cell_type": "code",
      "execution_count": null,
      "metadata": {
        "id": "1cHfpT54dkHS"
      },
      "outputs": [],
      "source": [
        "###Completar"
      ]
    },
    {
      "cell_type": "markdown",
      "metadata": {
        "id": "1qdCl-nIdkHS"
      },
      "source": [
        "15. Graficar las variables de importancia del Árbol de Decisión"
      ]
    },
    {
      "cell_type": "code",
      "execution_count": null,
      "metadata": {
        "id": "Ay4UacNHdkHT"
      },
      "outputs": [],
      "source": [
        "###Completar"
      ]
    }
  ],
  "metadata": {
    "kernelspec": {
      "display_name": "Python 3",
      "language": "python",
      "name": "python3"
    },
    "language_info": {
      "codemirror_mode": {
        "name": "ipython",
        "version": 3
      },
      "file_extension": ".py",
      "mimetype": "text/x-python",
      "name": "python",
      "nbconvert_exporter": "python",
      "pygments_lexer": "ipython3",
      "version": "3.8.5"
    },
    "varInspector": {
      "cols": {
        "lenName": 16,
        "lenType": 16,
        "lenVar": 40
      },
      "kernels_config": {
        "python": {
          "delete_cmd_postfix": "",
          "delete_cmd_prefix": "del ",
          "library": "var_list.py",
          "varRefreshCmd": "print(var_dic_list())"
        },
        "r": {
          "delete_cmd_postfix": ") ",
          "delete_cmd_prefix": "rm(",
          "library": "var_list.r",
          "varRefreshCmd": "cat(var_dic_list()) "
        }
      },
      "types_to_exclude": [
        "module",
        "function",
        "builtin_function_or_method",
        "instance",
        "_Feature"
      ],
      "window_display": false
    },
    "colab": {
      "provenance": [],
      "include_colab_link": true
    }
  },
  "nbformat": 4,
  "nbformat_minor": 0
}