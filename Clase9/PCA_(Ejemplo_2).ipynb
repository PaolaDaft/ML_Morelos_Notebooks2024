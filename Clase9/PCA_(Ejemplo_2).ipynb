{
  "cells": [
    {
      "cell_type": "markdown",
      "metadata": {
        "id": "view-in-github",
        "colab_type": "text"
      },
      "source": [
        "<a href=\"https://colab.research.google.com/github/PaolaDaft/ML_Morelos_Notebooks2024/blob/main/Clase9/PCA_(Ejemplo_2).ipynb\" target=\"_parent\"><img src=\"https://colab.research.google.com/assets/colab-badge.svg\" alt=\"Open In Colab\"/></a>"
      ]
    },
    {
      "cell_type": "markdown",
      "metadata": {
        "id": "1i81Mp7oiN9e"
      },
      "source": [
        "# PCA con Python"
      ]
    },
    {
      "cell_type": "code",
      "execution_count": 1,
      "metadata": {
        "id": "kUWsUMyeiN9h"
      },
      "outputs": [],
      "source": [
        "#Importamos las librerias\n",
        "import numpy as np\n",
        "import matplotlib.pyplot as plt\n",
        "import pandas as pd"
      ]
    },
    {
      "cell_type": "markdown",
      "metadata": {
        "id": "S1ViBgoLiN9j"
      },
      "source": [
        "Para este ejemplo utilizaremos un conjunto de datos de una colección de vinos con 13 variables independientes y una variable dependiente, que nos da la clasificación del vino. Las variables independientes son valores característicos del vino en cuestión y que van desde el alcohol, el aroma, el sabor, la acidez, y otros componentes o ingredientes que clasifican un vino."
      ]
    },
    {
      "cell_type": "code",
      "source": [
        "from google.colab import files\n",
        "from google.colab import drive\n",
        "drive.mount('/content/drive')"
      ],
      "metadata": {
        "colab": {
          "base_uri": "https://localhost:8080/"
        },
        "id": "HOZK0-3EiUQo",
        "outputId": "1544803b-4f0d-4a2b-9cfe-29800b2e2a30"
      },
      "execution_count": 2,
      "outputs": [
        {
          "output_type": "stream",
          "name": "stdout",
          "text": [
            "Mounted at /content/drive\n"
          ]
        }
      ]
    },
    {
      "cell_type": "code",
      "execution_count": 3,
      "metadata": {
        "colab": {
          "base_uri": "https://localhost:8080/",
          "height": 226
        },
        "id": "8wI3vZH6iN9j",
        "outputId": "6fe718de-7959-4be9-9dad-d22322bbe6d9"
      },
      "outputs": [
        {
          "output_type": "execute_result",
          "data": {
            "text/plain": [
              "   Alcohol  Malic_Acid   Ash  Ash_Alcanity  Magnesium  Total_Phenols  \\\n",
              "0    14.23        1.71  2.43          15.6        127           2.80   \n",
              "1    13.20        1.78  2.14          11.2        100           2.65   \n",
              "2    13.16        2.36  2.67          18.6        101           2.80   \n",
              "3    14.37        1.95  2.50          16.8        113           3.85   \n",
              "4    13.24        2.59  2.87          21.0        118           2.80   \n",
              "\n",
              "   Flavanoids  Nonflavanoid_Phenols  Proanthocyanins  Color_Intensity   Hue  \\\n",
              "0        3.06                  0.28             2.29             5.64  1.04   \n",
              "1        2.76                  0.26             1.28             4.38  1.05   \n",
              "2        3.24                  0.30             2.81             5.68  1.03   \n",
              "3        3.49                  0.24             2.18             7.80  0.86   \n",
              "4        2.69                  0.39             1.82             4.32  1.04   \n",
              "\n",
              "   OD280  Proline  Customer_Segment  \n",
              "0   3.92     1065                 1  \n",
              "1   3.40     1050                 1  \n",
              "2   3.17     1185                 1  \n",
              "3   3.45     1480                 1  \n",
              "4   2.93      735                 1  "
            ],
            "text/html": [
              "\n",
              "  <div id=\"df-62fcbc81-0c0b-4afb-8aa9-029a8de3e3af\" class=\"colab-df-container\">\n",
              "    <div>\n",
              "<style scoped>\n",
              "    .dataframe tbody tr th:only-of-type {\n",
              "        vertical-align: middle;\n",
              "    }\n",
              "\n",
              "    .dataframe tbody tr th {\n",
              "        vertical-align: top;\n",
              "    }\n",
              "\n",
              "    .dataframe thead th {\n",
              "        text-align: right;\n",
              "    }\n",
              "</style>\n",
              "<table border=\"1\" class=\"dataframe\">\n",
              "  <thead>\n",
              "    <tr style=\"text-align: right;\">\n",
              "      <th></th>\n",
              "      <th>Alcohol</th>\n",
              "      <th>Malic_Acid</th>\n",
              "      <th>Ash</th>\n",
              "      <th>Ash_Alcanity</th>\n",
              "      <th>Magnesium</th>\n",
              "      <th>Total_Phenols</th>\n",
              "      <th>Flavanoids</th>\n",
              "      <th>Nonflavanoid_Phenols</th>\n",
              "      <th>Proanthocyanins</th>\n",
              "      <th>Color_Intensity</th>\n",
              "      <th>Hue</th>\n",
              "      <th>OD280</th>\n",
              "      <th>Proline</th>\n",
              "      <th>Customer_Segment</th>\n",
              "    </tr>\n",
              "  </thead>\n",
              "  <tbody>\n",
              "    <tr>\n",
              "      <th>0</th>\n",
              "      <td>14.23</td>\n",
              "      <td>1.71</td>\n",
              "      <td>2.43</td>\n",
              "      <td>15.6</td>\n",
              "      <td>127</td>\n",
              "      <td>2.80</td>\n",
              "      <td>3.06</td>\n",
              "      <td>0.28</td>\n",
              "      <td>2.29</td>\n",
              "      <td>5.64</td>\n",
              "      <td>1.04</td>\n",
              "      <td>3.92</td>\n",
              "      <td>1065</td>\n",
              "      <td>1</td>\n",
              "    </tr>\n",
              "    <tr>\n",
              "      <th>1</th>\n",
              "      <td>13.20</td>\n",
              "      <td>1.78</td>\n",
              "      <td>2.14</td>\n",
              "      <td>11.2</td>\n",
              "      <td>100</td>\n",
              "      <td>2.65</td>\n",
              "      <td>2.76</td>\n",
              "      <td>0.26</td>\n",
              "      <td>1.28</td>\n",
              "      <td>4.38</td>\n",
              "      <td>1.05</td>\n",
              "      <td>3.40</td>\n",
              "      <td>1050</td>\n",
              "      <td>1</td>\n",
              "    </tr>\n",
              "    <tr>\n",
              "      <th>2</th>\n",
              "      <td>13.16</td>\n",
              "      <td>2.36</td>\n",
              "      <td>2.67</td>\n",
              "      <td>18.6</td>\n",
              "      <td>101</td>\n",
              "      <td>2.80</td>\n",
              "      <td>3.24</td>\n",
              "      <td>0.30</td>\n",
              "      <td>2.81</td>\n",
              "      <td>5.68</td>\n",
              "      <td>1.03</td>\n",
              "      <td>3.17</td>\n",
              "      <td>1185</td>\n",
              "      <td>1</td>\n",
              "    </tr>\n",
              "    <tr>\n",
              "      <th>3</th>\n",
              "      <td>14.37</td>\n",
              "      <td>1.95</td>\n",
              "      <td>2.50</td>\n",
              "      <td>16.8</td>\n",
              "      <td>113</td>\n",
              "      <td>3.85</td>\n",
              "      <td>3.49</td>\n",
              "      <td>0.24</td>\n",
              "      <td>2.18</td>\n",
              "      <td>7.80</td>\n",
              "      <td>0.86</td>\n",
              "      <td>3.45</td>\n",
              "      <td>1480</td>\n",
              "      <td>1</td>\n",
              "    </tr>\n",
              "    <tr>\n",
              "      <th>4</th>\n",
              "      <td>13.24</td>\n",
              "      <td>2.59</td>\n",
              "      <td>2.87</td>\n",
              "      <td>21.0</td>\n",
              "      <td>118</td>\n",
              "      <td>2.80</td>\n",
              "      <td>2.69</td>\n",
              "      <td>0.39</td>\n",
              "      <td>1.82</td>\n",
              "      <td>4.32</td>\n",
              "      <td>1.04</td>\n",
              "      <td>2.93</td>\n",
              "      <td>735</td>\n",
              "      <td>1</td>\n",
              "    </tr>\n",
              "  </tbody>\n",
              "</table>\n",
              "</div>\n",
              "    <div class=\"colab-df-buttons\">\n",
              "\n",
              "  <div class=\"colab-df-container\">\n",
              "    <button class=\"colab-df-convert\" onclick=\"convertToInteractive('df-62fcbc81-0c0b-4afb-8aa9-029a8de3e3af')\"\n",
              "            title=\"Convert this dataframe to an interactive table.\"\n",
              "            style=\"display:none;\">\n",
              "\n",
              "  <svg xmlns=\"http://www.w3.org/2000/svg\" height=\"24px\" viewBox=\"0 -960 960 960\">\n",
              "    <path d=\"M120-120v-720h720v720H120Zm60-500h600v-160H180v160Zm220 220h160v-160H400v160Zm0 220h160v-160H400v160ZM180-400h160v-160H180v160Zm440 0h160v-160H620v160ZM180-180h160v-160H180v160Zm440 0h160v-160H620v160Z\"/>\n",
              "  </svg>\n",
              "    </button>\n",
              "\n",
              "  <style>\n",
              "    .colab-df-container {\n",
              "      display:flex;\n",
              "      gap: 12px;\n",
              "    }\n",
              "\n",
              "    .colab-df-convert {\n",
              "      background-color: #E8F0FE;\n",
              "      border: none;\n",
              "      border-radius: 50%;\n",
              "      cursor: pointer;\n",
              "      display: none;\n",
              "      fill: #1967D2;\n",
              "      height: 32px;\n",
              "      padding: 0 0 0 0;\n",
              "      width: 32px;\n",
              "    }\n",
              "\n",
              "    .colab-df-convert:hover {\n",
              "      background-color: #E2EBFA;\n",
              "      box-shadow: 0px 1px 2px rgba(60, 64, 67, 0.3), 0px 1px 3px 1px rgba(60, 64, 67, 0.15);\n",
              "      fill: #174EA6;\n",
              "    }\n",
              "\n",
              "    .colab-df-buttons div {\n",
              "      margin-bottom: 4px;\n",
              "    }\n",
              "\n",
              "    [theme=dark] .colab-df-convert {\n",
              "      background-color: #3B4455;\n",
              "      fill: #D2E3FC;\n",
              "    }\n",
              "\n",
              "    [theme=dark] .colab-df-convert:hover {\n",
              "      background-color: #434B5C;\n",
              "      box-shadow: 0px 1px 3px 1px rgba(0, 0, 0, 0.15);\n",
              "      filter: drop-shadow(0px 1px 2px rgba(0, 0, 0, 0.3));\n",
              "      fill: #FFFFFF;\n",
              "    }\n",
              "  </style>\n",
              "\n",
              "    <script>\n",
              "      const buttonEl =\n",
              "        document.querySelector('#df-62fcbc81-0c0b-4afb-8aa9-029a8de3e3af button.colab-df-convert');\n",
              "      buttonEl.style.display =\n",
              "        google.colab.kernel.accessAllowed ? 'block' : 'none';\n",
              "\n",
              "      async function convertToInteractive(key) {\n",
              "        const element = document.querySelector('#df-62fcbc81-0c0b-4afb-8aa9-029a8de3e3af');\n",
              "        const dataTable =\n",
              "          await google.colab.kernel.invokeFunction('convertToInteractive',\n",
              "                                                    [key], {});\n",
              "        if (!dataTable) return;\n",
              "\n",
              "        const docLinkHtml = 'Like what you see? Visit the ' +\n",
              "          '<a target=\"_blank\" href=https://colab.research.google.com/notebooks/data_table.ipynb>data table notebook</a>'\n",
              "          + ' to learn more about interactive tables.';\n",
              "        element.innerHTML = '';\n",
              "        dataTable['output_type'] = 'display_data';\n",
              "        await google.colab.output.renderOutput(dataTable, element);\n",
              "        const docLink = document.createElement('div');\n",
              "        docLink.innerHTML = docLinkHtml;\n",
              "        element.appendChild(docLink);\n",
              "      }\n",
              "    </script>\n",
              "  </div>\n",
              "\n",
              "\n",
              "<div id=\"df-7fd88df7-c29e-42fe-99d9-3699f4315575\">\n",
              "  <button class=\"colab-df-quickchart\" onclick=\"quickchart('df-7fd88df7-c29e-42fe-99d9-3699f4315575')\"\n",
              "            title=\"Suggest charts\"\n",
              "            style=\"display:none;\">\n",
              "\n",
              "<svg xmlns=\"http://www.w3.org/2000/svg\" height=\"24px\"viewBox=\"0 0 24 24\"\n",
              "     width=\"24px\">\n",
              "    <g>\n",
              "        <path d=\"M19 3H5c-1.1 0-2 .9-2 2v14c0 1.1.9 2 2 2h14c1.1 0 2-.9 2-2V5c0-1.1-.9-2-2-2zM9 17H7v-7h2v7zm4 0h-2V7h2v10zm4 0h-2v-4h2v4z\"/>\n",
              "    </g>\n",
              "</svg>\n",
              "  </button>\n",
              "\n",
              "<style>\n",
              "  .colab-df-quickchart {\n",
              "      --bg-color: #E8F0FE;\n",
              "      --fill-color: #1967D2;\n",
              "      --hover-bg-color: #E2EBFA;\n",
              "      --hover-fill-color: #174EA6;\n",
              "      --disabled-fill-color: #AAA;\n",
              "      --disabled-bg-color: #DDD;\n",
              "  }\n",
              "\n",
              "  [theme=dark] .colab-df-quickchart {\n",
              "      --bg-color: #3B4455;\n",
              "      --fill-color: #D2E3FC;\n",
              "      --hover-bg-color: #434B5C;\n",
              "      --hover-fill-color: #FFFFFF;\n",
              "      --disabled-bg-color: #3B4455;\n",
              "      --disabled-fill-color: #666;\n",
              "  }\n",
              "\n",
              "  .colab-df-quickchart {\n",
              "    background-color: var(--bg-color);\n",
              "    border: none;\n",
              "    border-radius: 50%;\n",
              "    cursor: pointer;\n",
              "    display: none;\n",
              "    fill: var(--fill-color);\n",
              "    height: 32px;\n",
              "    padding: 0;\n",
              "    width: 32px;\n",
              "  }\n",
              "\n",
              "  .colab-df-quickchart:hover {\n",
              "    background-color: var(--hover-bg-color);\n",
              "    box-shadow: 0 1px 2px rgba(60, 64, 67, 0.3), 0 1px 3px 1px rgba(60, 64, 67, 0.15);\n",
              "    fill: var(--button-hover-fill-color);\n",
              "  }\n",
              "\n",
              "  .colab-df-quickchart-complete:disabled,\n",
              "  .colab-df-quickchart-complete:disabled:hover {\n",
              "    background-color: var(--disabled-bg-color);\n",
              "    fill: var(--disabled-fill-color);\n",
              "    box-shadow: none;\n",
              "  }\n",
              "\n",
              "  .colab-df-spinner {\n",
              "    border: 2px solid var(--fill-color);\n",
              "    border-color: transparent;\n",
              "    border-bottom-color: var(--fill-color);\n",
              "    animation:\n",
              "      spin 1s steps(1) infinite;\n",
              "  }\n",
              "\n",
              "  @keyframes spin {\n",
              "    0% {\n",
              "      border-color: transparent;\n",
              "      border-bottom-color: var(--fill-color);\n",
              "      border-left-color: var(--fill-color);\n",
              "    }\n",
              "    20% {\n",
              "      border-color: transparent;\n",
              "      border-left-color: var(--fill-color);\n",
              "      border-top-color: var(--fill-color);\n",
              "    }\n",
              "    30% {\n",
              "      border-color: transparent;\n",
              "      border-left-color: var(--fill-color);\n",
              "      border-top-color: var(--fill-color);\n",
              "      border-right-color: var(--fill-color);\n",
              "    }\n",
              "    40% {\n",
              "      border-color: transparent;\n",
              "      border-right-color: var(--fill-color);\n",
              "      border-top-color: var(--fill-color);\n",
              "    }\n",
              "    60% {\n",
              "      border-color: transparent;\n",
              "      border-right-color: var(--fill-color);\n",
              "    }\n",
              "    80% {\n",
              "      border-color: transparent;\n",
              "      border-right-color: var(--fill-color);\n",
              "      border-bottom-color: var(--fill-color);\n",
              "    }\n",
              "    90% {\n",
              "      border-color: transparent;\n",
              "      border-bottom-color: var(--fill-color);\n",
              "    }\n",
              "  }\n",
              "</style>\n",
              "\n",
              "  <script>\n",
              "    async function quickchart(key) {\n",
              "      const quickchartButtonEl =\n",
              "        document.querySelector('#' + key + ' button');\n",
              "      quickchartButtonEl.disabled = true;  // To prevent multiple clicks.\n",
              "      quickchartButtonEl.classList.add('colab-df-spinner');\n",
              "      try {\n",
              "        const charts = await google.colab.kernel.invokeFunction(\n",
              "            'suggestCharts', [key], {});\n",
              "      } catch (error) {\n",
              "        console.error('Error during call to suggestCharts:', error);\n",
              "      }\n",
              "      quickchartButtonEl.classList.remove('colab-df-spinner');\n",
              "      quickchartButtonEl.classList.add('colab-df-quickchart-complete');\n",
              "    }\n",
              "    (() => {\n",
              "      let quickchartButtonEl =\n",
              "        document.querySelector('#df-7fd88df7-c29e-42fe-99d9-3699f4315575 button');\n",
              "      quickchartButtonEl.style.display =\n",
              "        google.colab.kernel.accessAllowed ? 'block' : 'none';\n",
              "    })();\n",
              "  </script>\n",
              "</div>\n",
              "\n",
              "    </div>\n",
              "  </div>\n"
            ]
          },
          "metadata": {},
          "execution_count": 3
        }
      ],
      "source": [
        "# Importamos el conjunto de datos\n",
        "dataset = pd.read_csv(\"/content/drive/MyDrive/Colab Notebooks/📊 Desarrollo de habilidades en INTELIGENCIA ARTIFICIAL Y DATA/Clase 9/Datos/Wine.csv\", sep = \",\")\n",
        "dataset.head()"
      ]
    },
    {
      "cell_type": "markdown",
      "metadata": {
        "id": "g8h9tmpiiN9k"
      },
      "source": [
        "Una vez que importamos los datos, separamos las variables independientes en la matriz X y la variable dependiente en el vector y."
      ]
    },
    {
      "cell_type": "code",
      "execution_count": null,
      "metadata": {
        "id": "oB5r0nm-iN9l"
      },
      "outputs": [],
      "source": [
        "X = dataset.iloc[:, 0:13].values\n",
        "y = dataset.iloc[:, 13].values"
      ]
    },
    {
      "cell_type": "markdown",
      "metadata": {
        "id": "D_fU6mRiiN9l"
      },
      "source": [
        "Ahora dividimos el conjunto de datos en dos conjuntos para entrenamiento y prueba:"
      ]
    },
    {
      "cell_type": "code",
      "execution_count": null,
      "metadata": {
        "id": "DTaLs3xyiN9l"
      },
      "outputs": [],
      "source": [
        "from sklearn.model_selection import train_test_split\n",
        "\n",
        "X_train, X_test, y_train, y_test = train_test_split(X, y, test_size = 0.2, random_state = 0)"
      ]
    },
    {
      "cell_type": "markdown",
      "metadata": {
        "id": "krkkHizJiN9m"
      },
      "source": [
        "Nuestro siguiente paso será estandarizar las escalas para las 13 variables analizadas!"
      ]
    },
    {
      "cell_type": "code",
      "execution_count": null,
      "metadata": {
        "id": "tN1IPXa4iN9m"
      },
      "outputs": [],
      "source": [
        "from sklearn.preprocessing import StandardScaler\n",
        "sc = StandardScaler()\n",
        "X_train = sc.fit_transform(X_train)\n",
        "X_test = sc.transform(X_test)"
      ]
    },
    {
      "cell_type": "code",
      "execution_count": null,
      "metadata": {
        "id": "UDyTR2D7iN9n",
        "outputId": "84bfb358-a316-4df0-d4a6-8c4021f957e2"
      },
      "outputs": [
        {
          "data": {
            "text/plain": [
              "array([[ 0.87668336,  0.79842885,  0.64412971, ...,  0.0290166 ,\n",
              "        -1.06412236, -0.2059076 ],\n",
              "       [-0.36659076, -0.7581304 , -0.39779858, ...,  0.0290166 ,\n",
              "        -0.73083231, -0.81704676],\n",
              "       [-1.69689407, -0.34424759, -0.32337513, ...,  0.90197362,\n",
              "         0.51900537, -1.31256499],\n",
              "       ...,\n",
              "       [-0.70227477, -0.68615078, -0.65828065, ...,  0.46549511,\n",
              "         0.51900537, -1.31256499],\n",
              "       [ 1.13777093, -0.62316862, -0.91876272, ..., -0.18922266,\n",
              "         1.03282752,  0.80164614],\n",
              "       [ 1.4610222 ,  0.12361993,  0.42085937, ..., -1.45501034,\n",
              "        -1.2168803 , -0.2719767 ]])"
            ]
          },
          "execution_count": 6,
          "metadata": {},
          "output_type": "execute_result"
        }
      ],
      "source": [
        "#Veamos!\n",
        "X_train"
      ]
    },
    {
      "cell_type": "code",
      "execution_count": null,
      "metadata": {
        "id": "hxVsaf92iN9n",
        "outputId": "38ed58bc-ffad-49da-a3e1-7fe59a14c0c5"
      },
      "outputs": [
        {
          "data": {
            "text/plain": [
              "array([[ 9.38847070e-01, -6.32166068e-01, -4.35010303e-01,\n",
              "        -9.19695615e-01,  1.26324041e+00,  5.59998633e-01,\n",
              "         9.77754158e-01, -1.20637533e+00,  2.36680192e-02,\n",
              "         3.39284695e-01, -1.45574805e-01,  8.52295413e-01,\n",
              "         1.04940526e+00],\n",
              "       [-2.42263344e-01,  2.67579163e-01,  4.20859365e-01,\n",
              "         7.12764102e-01,  8.40672358e-01, -1.27747161e+00,\n",
              "        -6.05828120e-01, -9.70634096e-01, -5.87397203e-01,\n",
              "         2.42611713e+00, -2.06608025e+00, -1.55017035e+00,\n",
              "        -8.66598582e-01],\n",
              "       [-7.64438475e-01, -1.11802849e+00, -7.69915825e-01,\n",
              "        -1.61767889e-01, -9.20027861e-01,  2.03653722e+00,\n",
              "         1.18341419e+00, -1.36353615e+00,  4.48018868e-01,\n",
              "        -2.50930538e-01,  1.16386073e+00,  3.94021597e-01,\n",
              "        -1.06480588e+00],\n",
              "       [ 7.15057728e-01, -5.78181354e-01,  3.46435916e-01,\n",
              "         2.75498106e-01,  1.12238439e+00,  1.15061407e+00,\n",
              "         8.54358136e-01, -1.28495574e+00,  1.43251284e+00,\n",
              "         5.07917619e-01,  1.16312302e-01,  6.16214963e-01,\n",
              "         1.24761256e+00],\n",
              "       [ 8.09879269e-02,  3.08378173e+00, -8.81550999e-01,\n",
              "         5.67008770e-01, -9.90455870e-01,  5.92810602e-01,\n",
              "         7.20679112e-01, -4.99151627e-01,  6.85655343e-01,\n",
              "        -1.03085781e+00, -9.74883977e-01,  7.13424560e-01,\n",
              "        -1.19694407e+00],\n",
              "       [-1.77149051e+00, -2.90262880e-01,  3.21173872e+00,\n",
              "         2.60758342e+00,  1.33366842e+00,  1.51154572e+00,\n",
              "         3.21944855e+00,  8.36715367e-01,  4.48018868e-01,\n",
              "         4.02522042e-01, -1.01926954e-01,  1.53276259e+00,\n",
              "        -9.16150406e-01],\n",
              "       [ 1.33669479e+00, -2.00288357e-01,  9.04611787e-01,\n",
              "        -5.69882819e-01,  1.47452444e+00,  5.59998633e-01,\n",
              "         5.76717087e-01, -4.20571216e-01, -6.04371237e-01,\n",
              "         2.01884783e-03,  4.65495111e-01,  1.38000466e+00,\n",
              "         1.82571717e+00],\n",
              "       [-7.76871216e-01,  1.31128363e+00,  4.87421183e-02,\n",
              "         4.21253438e-01, -8.49599852e-01,  6.78191041e-02,\n",
              "        -1.05828020e+00,  1.07245660e+00, -9.60825950e-01,\n",
              "         1.09813285e+00, -1.71689745e+00, -1.39741241e+00,\n",
              "        -7.34460386e-01],\n",
              "       [-9.13631369e-01, -5.78181354e-01, -9.18762724e-01,\n",
              "        -1.61767889e-01, -1.41302392e+00, -9.98569875e-01,\n",
              "         8.31330005e-02,  5.09112525e-02,  4.06420531e-02,\n",
              "        -6.93591962e-01,  2.03608004e-01,  8.10634157e-01,\n",
              "        -7.67494935e-01],\n",
              "       [-1.12498797e+00, -4.88206831e-01, -1.74528230e-01,\n",
              "        -3.07523221e-01, -1.34259591e+00, -1.08059980e+00,\n",
              "        -4.61866095e-01,  1.22961742e+00,  5.76160871e-02,\n",
              "        -1.11517427e+00,  5.52790813e-01, -4.39203523e-01,\n",
              "        -8.66598582e-01],\n",
              "       [ 4.66402904e-01,  1.68607187e-01, -6.28930558e-02,\n",
              "         1.29742774e-01, -7.79171843e-01, -1.40871948e+00,\n",
              "        -1.49016628e+00,  5.09112525e-02, -1.63978731e+00,\n",
              "         2.33889118e-01, -1.10582753e+00, -1.61461816e-01,\n",
              "         1.24437889e-01],\n",
              "       [ 1.11290545e+00,  2.39997536e+00, -5.09433752e-01,\n",
              "         1.29742774e-01, -1.41302392e+00, -2.09777082e+00,\n",
              "        -1.65469430e+00,  2.86652487e-01, -1.57189117e+00,\n",
              "        -6.12184986e-02, -1.62960174e+00, -1.74458954e+00,\n",
              "        -1.08132315e+00],\n",
              "       [ 1.51075317e+00, -5.51188997e-01,  3.09224191e-01,\n",
              "        -1.26950841e+00,  8.40672358e-01,  1.65919958e+00,\n",
              "         1.48162125e+00, -1.84829982e-01,  6.17759208e-01,\n",
              "         7.18708773e-01,  4.21847260e-01,  3.66247427e-01,\n",
              "         2.33775268e+00],\n",
              "       [-7.64438475e-01, -1.17201321e+00, -9.93186174e-01,\n",
              "        -3.07523221e-01, -8.49599852e-01,  2.06934919e+00,\n",
              "         1.85180931e+00, -9.70634096e-01,  5.83811140e-01,\n",
              "        -2.29851422e-01,  3.78199409e-01,  2.55150744e-01,\n",
              "        -2.71976699e-01],\n",
              "       [ 7.39923211e-01,  1.86602092e-01,  1.20230558e+00,\n",
              "         1.44154076e+00,  3.47676297e-01, -1.16262972e+00,\n",
              "        -1.14054421e+00,  2.08072075e-01, -1.12124252e-01,\n",
              "         1.52393098e+00, -9.31236125e-01, -1.09189653e+00,\n",
              "         2.53342422e-02],\n",
              "       [-1.22444990e+00, -1.30697499e+00, -1.36530342e+00,\n",
              "        -1.61767889e-01, -9.90455870e-01,  2.64690916e-01,\n",
              "         3.19642042e-01, -4.99151627e-01, -2.98838626e-01,\n",
              "        -1.07301604e+00,  1.86222635e+00,  7.41198731e-01,\n",
              "        -1.53389647e+00],\n",
              "       [ 9.63712552e-01, -7.58130400e-01,  1.23951731e+00,\n",
              "        -1.60125576e-02,  2.24923253e+00,  1.13420808e+00,\n",
              "         8.13226129e-01,  1.07245660e+00, -4.34630898e-01,\n",
              "         1.49572656e-01,  1.29480428e+00,  5.74553707e-01,\n",
              "         1.62750987e+00],\n",
              "       [ 1.49832042e+00, -7.04145686e-01,  4.20859365e-01,\n",
              "        -8.90544549e-01,  5.58960323e-01,  1.70841753e+00,\n",
              "         2.03690334e+00, -3.41990805e-01,  4.31044834e-01,\n",
              "         1.54079428e+00,  1.20750858e+00,  3.24586171e-01,\n",
              "         3.09754730e+00],\n",
              "       [-4.28754462e-01, -9.11087089e-01, -1.29087997e+00,\n",
              "        -8.03091350e-01, -4.46374703e-03, -3.91548456e-01,\n",
              "        -5.54413111e-01,  1.30819784e+00, -1.67373538e+00,\n",
              "         2.97126464e-01,  1.16312302e-01, -1.38352533e+00,\n",
              "        -9.65702229e-01],\n",
              "       [ 1.05074174e+00, -6.50160973e-01,  8.67400062e-01,\n",
              "        -6.86487084e-01, -4.27031800e-01,  3.13908869e-01,\n",
              "         1.07030117e+00, -1.12779492e+00,  1.16092829e+00,\n",
              "         2.33889118e-01,  1.25115643e+00,  1.08837586e+00,\n",
              "         1.72661352e+00],\n",
              "       [ 1.55584374e-01, -1.22599792e+00, -2.48165516e+00,\n",
              "        -1.32781054e+00, -1.55387994e+00,  1.18342604e+00,\n",
              "         1.26567821e+00, -8.13473273e-01,  1.14395426e+00,\n",
              "         1.07414425e-01,  7.27382218e-01,  8.24521243e-01,\n",
              "        -7.93922574e-01],\n",
              "       [ 8.09879269e-02, -6.50160973e-01,  6.81341438e-01,\n",
              "        -4.53278553e-01, -1.45319765e-01,  3.13908869e-01,\n",
              "         4.94453073e-01, -5.77732039e-01, -2.81864592e-01,\n",
              "        -3.35247000e-01,  7.27382218e-01, -1.05913475e-01,\n",
              "         1.19806073e+00],\n",
              "       [ 3.17210010e-01,  1.95599544e-01,  1.87211663e+00,\n",
              "         4.21253438e-01,  1.26324041e+00,  8.88118319e-01,\n",
              "         7.61811120e-01,  2.08072075e-01,  3.63148698e-01,\n",
              "        -3.05736238e-01,  3.78199409e-01,  4.77344109e-01,\n",
              "        -2.42175814e-02],\n",
              "       [-5.90380098e-01, -5.78181354e-01, -1.43972687e+00,\n",
              "         2.75498106e-01, -1.06088388e+00, -9.62407389e-02,\n",
              "        -2.99800193e-02, -3.41990805e-01, -2.13968456e-01,\n",
              "        -8.87519825e-01,  3.78199409e-01,  1.36611757e+00,\n",
              "        -2.32335240e-01],\n",
              "       [-8.14169440e-01, -1.14502085e+00, -3.23375129e-01,\n",
              "        -1.03629988e+00,  6.59642617e-02, -3.42330503e-01,\n",
              "        -8.83469169e-01,  2.09400195e+00, -2.03019009e+00,\n",
              "        -7.48397663e-01,  1.29480428e+00, -1.27242864e+00,\n",
              "        -2.05907601e-01],\n",
              "       [-5.77947357e-01,  5.16403072e-02, -7.32704101e-01,\n",
              "         4.21253438e-01, -8.49599852e-01,  4.77968712e-01,\n",
              "         3.29925044e-01, -8.13473273e-01, -6.55293339e-01,\n",
              "        -1.28380720e+00, -2.32870507e-01,  2.69037829e-01,\n",
              "        -1.37863409e+00],\n",
              "       [-6.89842028e-01, -7.58130400e-01, -2.86163404e-01,\n",
              "         5.67008770e-01, -9.90455870e-01,  7.89682413e-01,\n",
              "         1.23482920e+00,  2.08072075e-01,  2.78278529e-01,\n",
              "        -4.65937515e-01, -1.14947538e+00,  3.52360341e-01,\n",
              "        -1.28944081e+00],\n",
              "       [-1.02552604e+00, -6.86150782e-01, -2.11739955e-01,\n",
              "         9.45972633e-01, -7.08743835e-01, -7.85292079e-01,\n",
              "        -2.66489061e-01,  5.22393721e-01, -7.81761846e-02,\n",
              "        -1.09409516e+00,  1.64398709e+00, -4.53090608e-01,\n",
              "        -8.17046759e-01],\n",
              "       [-1.52283569e+00,  2.76576615e-01,  2.05817525e+00,\n",
              "         1.29742774e-01,  2.06820279e-01, -8.34510032e-01,\n",
              "         8.31330005e-02,  1.85826072e+00, -9.43851916e-01,\n",
              "        -5.24959039e-01,  1.20750858e+00, -1.19800560e-01,\n",
              "        -4.47059809e-01],\n",
              "       [ 9.88578035e-01,  3.48556233e-01, -2.48951679e-01,\n",
              "         7.12764102e-01, -7.08743835e-01, -1.49074940e+00,\n",
              "        -1.30507224e+00,  3.65232898e-01, -9.77799984e-01,\n",
              "         1.91178671e+00, -1.10582753e+00, -1.25854156e+00,\n",
              "        -4.20632170e-01],\n",
              "       [ 5.03701128e-01, -5.42191545e-01,  9.41823511e-01,\n",
              "        -1.00714881e+00, -4.97459808e-01,  9.70148241e-01,\n",
              "         1.01888616e+00, -1.84829982e-01, -2.64890558e-01,\n",
              "        -1.03376729e-01, -1.45574805e-01,  8.80069584e-01,\n",
              "         1.49537167e+00],\n",
              "       [ 1.53561865e+00, -6.05173711e-01, -2.48951679e-01,\n",
              "        -9.48846682e-01,  1.26324041e+00,  1.54435769e+00,\n",
              "         1.08058418e+00, -8.13473273e-01,  7.19603411e-01,\n",
              "         5.62723319e-01, -5.82791026e-02,  1.00505335e+00,\n",
              "         7.52094321e-01],\n",
              "       [-1.17471893e+00,  1.73416389e+00,  4.87421183e-02,\n",
              "         7.12764102e-01, -1.41302392e+00, -2.60300582e-01,\n",
              "        -2.04791050e-01,  4.43813310e-01, -4.34630898e-01,\n",
              "        -1.03085781e+00, -7.12996870e-01, -2.25909628e-02,\n",
              "        -5.36253092e-01],\n",
              "       [ 1.52318591e+00,  1.50023013e+00,  2.72012467e-01,\n",
              "        -1.90918956e-01,  7.70244349e-01,  9.70148241e-01,\n",
              "         7.20679112e-01, -4.99151627e-01, -6.04371237e-01,\n",
              "         8.21194866e-02, -3.63814061e-01,  1.03282752e+00,\n",
              "         1.11547436e+00],\n",
              "       [ 2.29401586e+00, -6.59158425e-01, -7.32704101e-01,\n",
              "        -1.61932121e+00, -2.15747773e-01,  8.88118319e-01,\n",
              "         1.06001817e+00, -5.77732039e-01,  6.34733242e-01,\n",
              "         6.52561942e-02,  5.52790813e-01,  3.66247427e-01,\n",
              "         9.99853439e-01],\n",
              "       [ 8.09879269e-02, -5.42191545e-01, -9.93186174e-01,\n",
              "        -7.44789217e-01,  4.88532314e-01,  1.21623801e+00,\n",
              "         1.08058418e+00, -6.56312450e-01,  7.19603411e-01,\n",
              "        -2.19697526e-03, -3.20166209e-01,  1.06060169e+00,\n",
              "         4.71300654e-01]])"
            ]
          },
          "execution_count": 7,
          "metadata": {},
          "output_type": "execute_result"
        }
      ],
      "source": [
        "#Veamos!\n",
        "X_test"
      ]
    },
    {
      "cell_type": "code",
      "execution_count": null,
      "metadata": {
        "id": "0KFwA8BDiN9n",
        "outputId": "37ce0c4b-ba59-43f1-dabb-c3dda9fabcca"
      },
      "outputs": [
        {
          "data": {
            "text/plain": [
              "array([3, 2, 2, 3, 1, 1, 2, 2, 2, 1, 3, 2, 3, 1, 3, 3, 1, 3, 1, 2, 3, 3,\n",
              "       2, 3, 3, 1, 2, 3, 2, 2, 3, 2, 1, 2, 2, 2, 1, 1, 2, 2, 3, 3, 2, 2,\n",
              "       2, 3, 3, 1, 3, 2, 2, 2, 2, 2, 1, 1, 2, 1, 3, 1, 3, 1, 1, 2, 1, 2,\n",
              "       2, 1, 3, 2, 1, 2, 2, 2, 3, 1, 3, 3, 1, 1, 2, 3, 1, 1, 2, 2, 1, 1,\n",
              "       1, 3, 2, 1, 2, 3, 1, 2, 3, 3, 1, 1, 3, 1, 3, 2, 1, 1, 2, 1, 3, 2,\n",
              "       3, 1, 3, 3, 3, 1, 2, 2, 2, 2, 3, 3, 2, 2, 1, 2, 3, 3, 1, 1, 3, 2,\n",
              "       2, 2, 1, 1, 1, 2, 2, 2, 1, 3], dtype=int64)"
            ]
          },
          "execution_count": 8,
          "metadata": {},
          "output_type": "execute_result"
        }
      ],
      "source": [
        "#Veamos!\n",
        "y_train"
      ]
    },
    {
      "cell_type": "code",
      "execution_count": null,
      "metadata": {
        "id": "CR7yEJFQiN9n",
        "outputId": "10bba1ce-71ff-4cf2-aeb9-b7f8f7068edb"
      },
      "outputs": [
        {
          "data": {
            "text/plain": [
              "array([1, 3, 2, 1, 2, 2, 1, 3, 2, 2, 3, 3, 1, 2, 3, 2, 1, 1, 2, 1, 2, 1,\n",
              "       1, 2, 2, 2, 2, 2, 2, 3, 1, 1, 2, 1, 1, 1], dtype=int64)"
            ]
          },
          "execution_count": 9,
          "metadata": {},
          "output_type": "execute_result"
        }
      ],
      "source": [
        "#Veamos!\n",
        "y_test"
      ]
    },
    {
      "cell_type": "markdown",
      "metadata": {
        "id": "pNaIlRy8iN9o"
      },
      "source": [
        "Una vez con los datos normalizados, aplicamos el PCA para reducir la dimensión de 13 a 2 variables."
      ]
    },
    {
      "cell_type": "code",
      "execution_count": null,
      "metadata": {
        "id": "lBrc0JV9iN9o"
      },
      "outputs": [],
      "source": [
        "from sklearn.decomposition import PCA\n",
        "pca = PCA(n_components = 2)\n",
        "X_train = pca.fit_transform(X_train)\n",
        "X_test = pca.transform(X_test)"
      ]
    },
    {
      "cell_type": "markdown",
      "metadata": {
        "id": "Q2e28V19iN9o"
      },
      "source": [
        "El conjunto de entrenamiento quedó ahora con 2 variables de la siguiente manera:"
      ]
    },
    {
      "cell_type": "code",
      "execution_count": null,
      "metadata": {
        "id": "gRKxQZ8miN9o",
        "outputId": "65361078-fa38-4f46-cbf9-3e0b3fc7e753"
      },
      "outputs": [
        {
          "data": {
            "text/plain": [
              "array([[-2.17884511e+00, -1.07218467e+00],\n",
              "       [-1.80819239e+00,  1.57822344e+00],\n",
              "       [ 1.09829474e+00,  2.22124345e+00],\n",
              "       [-2.55584748e+00, -1.66210369e+00],\n",
              "       [ 1.85698063e+00,  2.41573166e-01],\n",
              "       [ 2.58288576e+00, -1.37668170e+00],\n",
              "       [ 8.72876119e-01,  2.25618512e+00],\n",
              "       [-4.18384029e-01,  2.35415681e+00],\n",
              "       [-3.04977245e-01,  2.27659433e+00],\n",
              "       [ 2.14082532e+00, -1.10052871e+00],\n",
              "       [-2.98136465e+00, -2.47159183e-01],\n",
              "       [ 1.96188242e+00,  1.25407738e+00],\n",
              "       [-2.16177795e+00, -9.75966550e-01],\n",
              "       [ 2.21976084e+00, -2.39507167e+00],\n",
              "       [-2.30179529e+00, -2.05791962e-01],\n",
              "       [-3.00953827e+00, -2.79141212e-01],\n",
              "       [ 2.63443473e+00, -8.68313119e-01],\n",
              "       [-1.09219965e+00, -3.53906625e+00],\n",
              "       [ 2.62578435e+00, -2.96852840e-03],\n",
              "       [ 1.98077342e-01,  2.29193443e+00],\n",
              "       [-2.67442753e+00, -2.58800132e+00],\n",
              "       [-2.54763698e+00, -4.52703891e-01],\n",
              "       [ 1.77416736e+00,  8.43586940e-01],\n",
              "       [-2.77786938e+00, -4.32090258e-01],\n",
              "       [-2.86679938e+00, -1.87580875e+00],\n",
              "       [ 1.35498845e+00,  3.99545184e-02],\n",
              "       [-2.43900474e+00,  9.44074889e-02],\n",
              "       [-2.27268121e+00,  5.05883053e-01],\n",
              "       [ 1.17887166e+00,  2.50068415e+00],\n",
              "       [-2.30673313e+00,  1.30502777e+00],\n",
              "       [-2.53020738e+00, -5.51277126e-01],\n",
              "       [ 1.63200028e-01,  1.29107817e+00],\n",
              "       [ 2.57881158e+00, -1.17515982e+00],\n",
              "       [-7.62471566e-01,  3.16097049e+00],\n",
              "       [ 2.57005937e+00, -9.66718786e-02],\n",
              "       [-4.78337042e-01,  5.77763823e-01],\n",
              "       [ 5.47417096e-01, -3.77647780e-01],\n",
              "       [ 3.55763538e+00, -1.45816125e+00],\n",
              "       [ 1.69260971e+00,  1.37844174e+00],\n",
              "       [ 2.65288395e+00, -2.39399539e-01],\n",
              "       [-3.62047411e+00, -6.90153979e-01],\n",
              "       [-1.61462317e+00, -2.41170340e+00],\n",
              "       [ 1.50959767e+00,  1.32717326e+00],\n",
              "       [ 5.36413494e-02,  2.07680094e+00],\n",
              "       [-1.07889168e-01,  2.85115217e+00],\n",
              "       [-2.39610454e+00, -2.45883860e+00],\n",
              "       [-3.12315181e+00,  4.23261512e-01],\n",
              "       [ 3.28569649e+00, -3.22859884e-01],\n",
              "       [-3.55506872e+00, -1.74242946e+00],\n",
              "       [-3.87020538e-01,  2.61510101e+00],\n",
              "       [-4.74514016e-01,  1.98023790e+00],\n",
              "       [-1.06865761e+00,  6.78906271e-01],\n",
              "       [ 1.08546036e+00,  1.30817801e+00],\n",
              "       [ 2.02340107e+00,  1.56926094e+00],\n",
              "       [ 2.76257094e+00, -1.85603600e+00],\n",
              "       [ 2.06778286e+00, -1.35861191e+00],\n",
              "       [ 9.06600653e-01,  2.04110996e+00],\n",
              "       [ 3.52336455e+00, -1.39946872e+00],\n",
              "       [-3.79914321e+00, -4.92727617e-02],\n",
              "       [ 1.75250993e+00,  4.64283651e-01],\n",
              "       [-3.46539192e+00, -7.90385134e-01],\n",
              "       [ 3.16221605e+00, -8.39879111e-01],\n",
              "       [ 2.37656864e+00, -1.72475988e+00],\n",
              "       [ 1.31278073e+00,  8.53348760e-01],\n",
              "       [ 3.57258440e+00, -1.78091597e+00],\n",
              "       [ 9.50877158e-01,  2.38927332e+00],\n",
              "       [ 4.95461316e-01,  2.16498322e+00],\n",
              "       [ 3.79294638e+00, -2.92787186e+00],\n",
              "       [-2.37978591e+00, -2.13572422e+00],\n",
              "       [-1.50346992e+00,  1.39146991e+00],\n",
              "       [ 2.50566646e+00, -1.30365941e+00],\n",
              "       [-6.97535788e-01,  2.78160736e-01],\n",
              "       [-7.25562555e-01,  2.54007170e+00],\n",
              "       [ 9.24047324e-01,  1.46344718e+00],\n",
              "       [-1.25151294e+00,  2.74792621e-02],\n",
              "       [ 2.20937835e+00, -8.05690832e-01],\n",
              "       [-3.84416995e+00, -5.74263508e-01],\n",
              "       [-1.77983157e+00, -1.38012167e+00],\n",
              "       [ 4.35413058e+00, -2.33750318e+00],\n",
              "       [ 3.33834347e+00, -1.51169086e+00],\n",
              "       [-1.44769123e+00,  1.90826204e+00],\n",
              "       [-2.75066706e+00, -2.07100640e+00],\n",
              "       [ 2.79475799e+00, -1.36659228e+00],\n",
              "       [ 1.84642601e+00, -6.82481476e-01],\n",
              "       [-4.13332842e-01,  2.20440158e+00],\n",
              "       [-4.81356617e-02,  1.17469609e+00],\n",
              "       [ 1.99166500e+00, -2.50860656e-01],\n",
              "       [ 2.26421169e+00, -1.32120813e+00],\n",
              "       [ 7.85551414e-01, -2.46487051e-01],\n",
              "       [-3.32586984e+00, -2.14485564e+00],\n",
              "       [ 1.00496881e+00,  7.20390295e-01],\n",
              "       [ 2.31479633e+00,  2.62129546e-01],\n",
              "       [ 8.67032066e-01,  1.36440259e+00],\n",
              "       [-2.28629769e+00, -4.54244754e-01],\n",
              "       [ 3.14452871e+00, -1.29318898e+00],\n",
              "       [-1.65297942e+00,  1.74177394e+00],\n",
              "       [-2.84689388e+00, -7.78426712e-02],\n",
              "       [-2.68393126e+00, -2.53813173e-01],\n",
              "       [ 1.97280128e+00, -1.70171835e+00],\n",
              "       [ 1.63120111e+00,  7.24762688e-01],\n",
              "       [-2.05082836e+00, -2.11848206e-01],\n",
              "       [ 2.28798382e+00, -1.95899701e+00],\n",
              "       [-2.28266458e+00, -2.07243579e-01],\n",
              "       [-3.45079842e-01,  1.92360626e+00],\n",
              "       [ 1.49448758e+00, -7.18673825e-01],\n",
              "       [ 2.26695932e+00, -7.93531817e-01],\n",
              "       [-3.44673144e-01,  1.92686997e+00],\n",
              "       [ 2.75927029e+00, -1.56391999e+00],\n",
              "       [-2.86839562e+00, -1.85579453e+00],\n",
              "       [-1.46228982e+00,  1.22151405e+00],\n",
              "       [-3.31754434e+00, -1.20382601e+00],\n",
              "       [ 1.72057718e+00, -1.36843828e-01],\n",
              "       [-2.90065973e+00, -3.71521776e-01],\n",
              "       [-2.30532411e+00, -2.14386284e+00],\n",
              "       [-3.51377495e+00, -1.17981731e+00],\n",
              "       [ 2.32780065e+00, -2.95396131e-01],\n",
              "       [ 1.54528723e+00,  1.99996309e+00],\n",
              "       [-3.32660657e-01,  2.37118865e+00],\n",
              "       [ 4.96648201e-01,  9.57282660e-01],\n",
              "       [ 6.69654741e-01,  3.80907536e+00],\n",
              "       [-2.76009366e+00, -1.48785734e+00],\n",
              "       [-3.19187371e+00, -2.70815669e+00],\n",
              "       [-6.05023707e-01,  1.10583182e+00],\n",
              "       [-1.34006934e+00,  1.51232906e+00],\n",
              "       [ 1.05506599e+00, -9.49724036e-01],\n",
              "       [ 1.16017702e+00,  1.39768493e+00],\n",
              "       [-2.87675356e+00, -1.15157946e+00],\n",
              "       [-2.35838421e+00, -2.44842974e+00],\n",
              "       [ 2.54704855e+00, -1.86824592e+00],\n",
              "       [ 3.20597222e+00, -1.85912926e+00],\n",
              "       [-2.69949485e+00, -1.75638262e-01],\n",
              "       [-9.67436859e-01,  1.81399824e+00],\n",
              "       [-1.46454259e+00,  1.01680272e+00],\n",
              "       [-4.04000223e-01,  2.40815711e+00],\n",
              "       [ 1.46393837e+00, -6.90763351e-01],\n",
              "       [ 1.15903114e+00, -2.91379684e-01],\n",
              "       [ 2.82057099e+00, -8.99578955e-01],\n",
              "       [-5.01011897e-01,  2.68453162e+00],\n",
              "       [ 3.30453915e-01,  2.43396193e+00],\n",
              "       [ 1.09727608e-02,  1.99585453e+00],\n",
              "       [ 2.89176687e+00, -7.71555485e-01],\n",
              "       [-2.44830439e+00, -2.11360296e+00]])"
            ]
          },
          "execution_count": 11,
          "metadata": {},
          "output_type": "execute_result"
        }
      ],
      "source": [
        "X_train #conjunto de entrenamiento reducido de 13 a 2 variables"
      ]
    },
    {
      "cell_type": "code",
      "execution_count": null,
      "metadata": {
        "id": "wV6u6Xs3iN9o",
        "outputId": "b0090c1b-1d28-4ce5-9da7-bbb5e49c0fe5"
      },
      "outputs": [
        {
          "data": {
            "text/plain": [
              "array([[ 2.20685211e+00, -1.02850086e+00],\n",
              "       [-2.53651962e+00, -1.83644227e+00],\n",
              "       [ 2.19183305e+00,  1.81240519e+00],\n",
              "       [ 2.51489251e+00, -1.38907803e+00],\n",
              "       [-3.47991313e-01,  5.25397912e-01],\n",
              "       [ 1.44174066e+00, -2.89674514e-01],\n",
              "       [ 2.11892046e+00, -1.62960181e+00],\n",
              "       [-3.06045961e+00, -6.70950629e-01],\n",
              "       [-2.35436876e-01,  2.16810201e+00],\n",
              "       [-1.21230749e+00,  2.12204944e+00],\n",
              "       [-2.20706720e+00, -2.61457262e-01],\n",
              "       [-4.19759580e+00, -5.36505538e-01],\n",
              "       [ 3.11063501e+00, -2.26380692e+00],\n",
              "       [ 2.39878282e+00,  1.29482006e+00],\n",
              "       [-2.16102953e+00, -1.95327620e+00],\n",
              "       [ 9.26627235e-01,  3.35678339e+00],\n",
              "       [ 1.96950425e+00, -1.65130081e+00],\n",
              "       [ 3.61413167e+00, -2.68087967e+00],\n",
              "       [-1.71986182e+00,  9.29936963e-01],\n",
              "       [ 2.93212799e+00, -8.79320756e-01],\n",
              "       [ 2.36911995e+00,  1.73171845e+00],\n",
              "       [ 1.23368522e+00, -1.56525793e-01],\n",
              "       [ 1.07525557e+00, -8.97240861e-01],\n",
              "       [ 5.30182248e-01,  2.07877544e+00],\n",
              "       [-1.39577506e+00,  1.45769587e+00],\n",
              "       [-1.31398888e-01,  1.92300751e+00],\n",
              "       [ 1.63520155e-01,  1.20901871e+00],\n",
              "       [-6.57932499e-01,  2.26380220e+00],\n",
              "       [-1.17987065e+00,  8.18306993e-01],\n",
              "       [-2.90894649e+00, -1.42996829e+00],\n",
              "       [ 1.87424562e+00, -8.00289998e-01],\n",
              "       [ 2.78042761e+00, -1.51686134e+00],\n",
              "       [-1.64977882e+00,  1.13772685e+00],\n",
              "       [ 1.20470322e+00, -1.83160348e+00],\n",
              "       [ 2.58037819e+00, -1.06341435e+00],\n",
              "       [ 2.18512179e+00, -5.10806875e-04]])"
            ]
          },
          "execution_count": 12,
          "metadata": {},
          "output_type": "execute_result"
        }
      ],
      "source": [
        "#Lo mismo sucedió con el conjunto de pruebas X_test\n",
        "X_test"
      ]
    },
    {
      "cell_type": "code",
      "execution_count": null,
      "metadata": {
        "id": "7w-hptNciN9o",
        "outputId": "981e0633-0b7c-4f91-dbf0-967c485314d0"
      },
      "outputs": [
        {
          "data": {
            "text/plain": [
              "array([0.36884109, 0.19318394])"
            ]
          },
          "execution_count": 13,
          "metadata": {},
          "output_type": "execute_result"
        }
      ],
      "source": [
        "# Explicación de la varianza de las componentes\n",
        "explained_variance = pca.explained_variance_ratio_\n",
        "explained_variance\n",
        "\n",
        "#El primero componente explica el 36.9% de la variabilidad de mis datos y el segundo el 19.3%"
      ]
    },
    {
      "cell_type": "markdown",
      "metadata": {
        "id": "ks_U40FdiN9p"
      },
      "source": [
        "Para comprobar que las dos componentes resultantes representan a las 13 variables originales vamos a hacer la predicción de la variable dependiente con la regresión logística, comprobando los resultados de predicción con la matriz de confusión:"
      ]
    },
    {
      "cell_type": "code",
      "execution_count": null,
      "metadata": {
        "id": "mURhkFxciN9p",
        "outputId": "4389ed96-78f6-48eb-c926-62794658c374"
      },
      "outputs": [
        {
          "data": {
            "text/plain": [
              "array([[14,  0,  0],\n",
              "       [ 1, 15,  0],\n",
              "       [ 0,  0,  6]], dtype=int64)"
            ]
          },
          "execution_count": 14,
          "metadata": {},
          "output_type": "execute_result"
        }
      ],
      "source": [
        "from sklearn.linear_model import LogisticRegression\n",
        "Reg_Log = LogisticRegression(random_state = 0)\n",
        "Reg_Log.fit(X_train, y_train)\n",
        "\n",
        "# Predicting the Test set results\n",
        "y_pred = Reg_Log.predict(X_test)\n",
        "\n",
        "# Making the Confusion Matrix\n",
        "from sklearn.metrics import confusion_matrix\n",
        "cm = confusion_matrix(y_test, y_pred)\n",
        "cm"
      ]
    },
    {
      "cell_type": "markdown",
      "metadata": {
        "id": "xareujhMiN9p"
      },
      "source": [
        "**Insights**:\n",
        "\n",
        "Como se observa en la matriz de confusión, sólo hay un error, un falso positivo en la primera de las tres clases de vinos. Por lo que concluimos que la predicción es correcta utilizando el conjunto de datos de dos variables, en lugar del conjunto de datos de 13 variables."
      ]
    }
  ],
  "metadata": {
    "kernelspec": {
      "display_name": "Python 3 (ipykernel)",
      "language": "python",
      "name": "python3"
    },
    "language_info": {
      "codemirror_mode": {
        "name": "ipython",
        "version": 3
      },
      "file_extension": ".py",
      "mimetype": "text/x-python",
      "name": "python",
      "nbconvert_exporter": "python",
      "pygments_lexer": "ipython3",
      "version": "3.9.12"
    },
    "varInspector": {
      "cols": {
        "lenName": 16,
        "lenType": 16,
        "lenVar": 40
      },
      "kernels_config": {
        "python": {
          "delete_cmd_postfix": "",
          "delete_cmd_prefix": "del ",
          "library": "var_list.py",
          "varRefreshCmd": "print(var_dic_list())"
        },
        "r": {
          "delete_cmd_postfix": ") ",
          "delete_cmd_prefix": "rm(",
          "library": "var_list.r",
          "varRefreshCmd": "cat(var_dic_list()) "
        }
      },
      "types_to_exclude": [
        "module",
        "function",
        "builtin_function_or_method",
        "instance",
        "_Feature"
      ],
      "window_display": false
    },
    "colab": {
      "provenance": [],
      "include_colab_link": true
    }
  },
  "nbformat": 4,
  "nbformat_minor": 0
}